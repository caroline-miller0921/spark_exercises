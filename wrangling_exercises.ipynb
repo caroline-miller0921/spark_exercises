{
 "cells": [
  {
   "cell_type": "code",
   "execution_count": 1,
   "id": "37246959",
   "metadata": {},
   "outputs": [],
   "source": [
    "import pandas as pd\n",
    "\n",
    "from pyspark.sql import SparkSession\n",
    "from pyspark.sql.functions import * \n",
    "from pyspark.sql import functions as F"
   ]
  },
  {
   "cell_type": "code",
   "execution_count": 2,
   "id": "74671e44",
   "metadata": {},
   "outputs": [
    {
     "name": "stderr",
     "output_type": "stream",
     "text": [
      "23/05/22 12:30:18 WARN Utils: Your hostname, Carolines-MacBook-Pro.local resolves to a loopback address: 127.0.0.1; using 172.20.10.4 instead (on interface en0)\n",
      "23/05/22 12:30:18 WARN Utils: Set SPARK_LOCAL_IP if you need to bind to another address\n",
      "Setting default log level to \"WARN\".\n",
      "To adjust logging level use sc.setLogLevel(newLevel). For SparkR, use setLogLevel(newLevel).\n",
      "23/05/22 12:30:19 WARN NativeCodeLoader: Unable to load native-hadoop library for your platform... using builtin-java classes where applicable\n"
     ]
    }
   ],
   "source": [
    "#create enviroment\n",
    "spark = SparkSession.builder.getOrCreate()"
   ]
  },
  {
   "cell_type": "markdown",
   "id": "66df9069",
   "metadata": {},
   "source": [
    "#### 1. Read the case, department, and source data into their own spark dataframes."
   ]
  },
  {
   "cell_type": "code",
   "execution_count": 3,
   "id": "fd1af082",
   "metadata": {},
   "outputs": [],
   "source": [
    "df = pd.read_csv('311 - 311.csv')"
   ]
  },
  {
   "cell_type": "code",
   "execution_count": 4,
   "id": "7c05d746",
   "metadata": {},
   "outputs": [],
   "source": [
    "df = spark.createDataFrame(df)"
   ]
  },
  {
   "cell_type": "markdown",
   "id": "55b8734b",
   "metadata": {},
   "source": [
    "#### 2. Let's see how writing to the local disk works in spark:\n",
    "\n",
    "Write the code necessary to store the source data in both csv and json format, store these as sources_csv and sources_json"
   ]
  },
  {
   "cell_type": "code",
   "execution_count": 5,
   "id": "7880f7a0",
   "metadata": {},
   "outputs": [
    {
     "name": "stderr",
     "output_type": "stream",
     "text": [
      "23/05/22 12:30:29 WARN TaskSetManager: Stage 0 contains a task of very large size (1346 KiB). The maximum recommended task size is 1000 KiB.\n",
      "                                                                                \r"
     ]
    }
   ],
   "source": [
    "#df.write.type\n",
    "df.write.json('data/sources_json', mode='overwrite')"
   ]
  },
  {
   "cell_type": "code",
   "execution_count": 6,
   "id": "36797f62",
   "metadata": {},
   "outputs": [
    {
     "name": "stderr",
     "output_type": "stream",
     "text": [
      "23/05/22 12:30:33 WARN TaskSetManager: Stage 1 contains a task of very large size (1346 KiB). The maximum recommended task size is 1000 KiB.\n",
      "                                                                                \r"
     ]
    }
   ],
   "source": [
    "#df.write.format()\n",
    "(\n",
    "df.write.format('csv')\n",
    "    .mode('overwrite')\n",
    "    .option('header', 'True')\n",
    "    .save('data/sources_csv')\n",
    ")"
   ]
  },
  {
   "cell_type": "code",
   "execution_count": 7,
   "id": "f28e9f8c",
   "metadata": {},
   "outputs": [
    {
     "name": "stderr",
     "output_type": "stream",
     "text": [
      "23/05/22 12:30:35 WARN TaskSetManager: Stage 2 contains a task of very large size (1346 KiB). The maximum recommended task size is 1000 KiB.\n"
     ]
    },
    {
     "name": "stdout",
     "output_type": "stream",
     "text": [
      "-RECORD 0-----------------------------------------------------\n",
      " case_id              | 1014127332                            \n",
      " case_opened_date     | 1/1/18 0:42                           \n",
      " case_closed_date     | 1/1/18 12:29                          \n",
      " SLA_due_date         | 9/26/20 0:42                          \n",
      " case_late            | NO                                    \n",
      " num_days_late        | -998.5087616                          \n",
      " case_closed          | YES                                   \n",
      " dept_division        | Field Operations                      \n",
      " service_request_type | Stray Animal                          \n",
      " SLA_days             | 999.0                                 \n",
      " case_status          | Closed                                \n",
      " source_id            | svcCRMLS                              \n",
      " request_address      | 2315  EL PASO ST, San Antonio, 78207  \n",
      " council_district     | 5                                     \n",
      "-RECORD 1-----------------------------------------------------\n",
      " case_id              | 1014127333                            \n",
      " case_opened_date     | 1/1/18 0:46                           \n",
      " case_closed_date     | 1/3/18 8:11                           \n",
      " SLA_due_date         | 1/5/18 8:30                           \n",
      " case_late            | NO                                    \n",
      " num_days_late        | -2.012604167                          \n",
      " case_closed          | YES                                   \n",
      " dept_division        | Storm Water                           \n",
      " service_request_type | Removal Of Obstruction                \n",
      " SLA_days             | 4.322222222                           \n",
      " case_status          | Closed                                \n",
      " source_id            | svcCRMSS                              \n",
      " request_address      | 2215  GOLIAD RD, San Antonio, 78223   \n",
      " council_district     | 3                                     \n",
      "-RECORD 2-----------------------------------------------------\n",
      " case_id              | 1014127334                            \n",
      " case_opened_date     | 1/1/18 0:48                           \n",
      " case_closed_date     | 1/2/18 7:57                           \n",
      " SLA_due_date         | 1/5/18 8:30                           \n",
      " case_late            | NO                                    \n",
      " num_days_late        | -3.022337963                          \n",
      " case_closed          | YES                                   \n",
      " dept_division        | Storm Water                           \n",
      " service_request_type | Removal Of Obstruction                \n",
      " SLA_days             | 4.320729167                           \n",
      " case_status          | Closed                                \n",
      " source_id            | svcCRMSS                              \n",
      " request_address      | 102  PALFREY ST W, San Antonio, 78223 \n",
      " council_district     | 3                                     \n",
      "only showing top 3 rows\n",
      "\n"
     ]
    }
   ],
   "source": [
    "df.show(3, vertical=True, truncate=False)"
   ]
  },
  {
   "cell_type": "code",
   "execution_count": 8,
   "id": "ebee5a88",
   "metadata": {},
   "outputs": [
    {
     "data": {
      "text/plain": [
       "[('case_id', 'bigint'),\n",
       " ('case_opened_date', 'string'),\n",
       " ('case_closed_date', 'string'),\n",
       " ('SLA_due_date', 'string'),\n",
       " ('case_late', 'string'),\n",
       " ('num_days_late', 'double'),\n",
       " ('case_closed', 'string'),\n",
       " ('dept_division', 'string'),\n",
       " ('service_request_type', 'string'),\n",
       " ('SLA_days', 'double'),\n",
       " ('case_status', 'string'),\n",
       " ('source_id', 'string'),\n",
       " ('request_address', 'string'),\n",
       " ('council_district', 'bigint')]"
      ]
     },
     "execution_count": 8,
     "metadata": {},
     "output_type": "execute_result"
    }
   ],
   "source": [
    "df.dtypes"
   ]
  },
  {
   "cell_type": "markdown",
   "id": "c5e59de6",
   "metadata": {},
   "source": [
    "**Correcting Data Types**\n",
    "\n",
    "case_opened_date --> datetime\n",
    "\n",
    "case_closed_date --> datetime\n",
    "\n",
    "SLA_due_date --> datetime\n",
    "\n",
    "case_late --> binary (1, 0)\n",
    "\n",
    "case_closed --> binary (1, 0)\n",
    "\n",
    "dept_division --> lower                        \n",
    "\n",
    "service_request_type --> lower\n",
    "\n",
    "case-status --> binary (1, 0)\n",
    "\n",
    "request_address --> lower and split address into street and number and city and zip"
   ]
  },
  {
   "cell_type": "code",
   "execution_count": 9,
   "id": "fbd31757",
   "metadata": {},
   "outputs": [],
   "source": [
    "df = df.withColumnRenamed('SLA_due_date', 'case_due_date')"
   ]
  },
  {
   "cell_type": "code",
   "execution_count": 10,
   "id": "a123bd1b",
   "metadata": {},
   "outputs": [],
   "source": [
    "fmt = 'M/d/yy H:m'"
   ]
  },
  {
   "cell_type": "code",
   "execution_count": 11,
   "id": "ade67020",
   "metadata": {},
   "outputs": [],
   "source": [
    "#use to_timestamp\n",
    "df = df.withColumn('case_opened_date',\n",
    "    F.to_timestamp('case_opened_date', fmt))"
   ]
  },
  {
   "cell_type": "code",
   "execution_count": 12,
   "id": "0bcfbdf0",
   "metadata": {},
   "outputs": [],
   "source": [
    "#use to_timestamp\n",
    "df = df.withColumn('case_closed_date',\n",
    "    F.to_timestamp('case_closed_date', fmt))"
   ]
  },
  {
   "cell_type": "code",
   "execution_count": 13,
   "id": "0b1793c4",
   "metadata": {},
   "outputs": [],
   "source": [
    "#use to_timestamp\n",
    "df = df.withColumn('case_due_date',\n",
    "    F.to_timestamp('case_due_date', fmt))"
   ]
  },
  {
   "cell_type": "code",
   "execution_count": 14,
   "id": "ff5a54cb",
   "metadata": {},
   "outputs": [
    {
     "data": {
      "text/plain": [
       "[('case_id', 'bigint'),\n",
       " ('case_opened_date', 'timestamp'),\n",
       " ('case_closed_date', 'timestamp'),\n",
       " ('case_due_date', 'timestamp'),\n",
       " ('case_late', 'string'),\n",
       " ('num_days_late', 'double'),\n",
       " ('case_closed', 'string'),\n",
       " ('dept_division', 'string'),\n",
       " ('service_request_type', 'string'),\n",
       " ('SLA_days', 'double'),\n",
       " ('case_status', 'string'),\n",
       " ('source_id', 'string'),\n",
       " ('request_address', 'string'),\n",
       " ('council_district', 'bigint')]"
      ]
     },
     "execution_count": 14,
     "metadata": {},
     "output_type": "execute_result"
    }
   ],
   "source": [
    "df.dtypes"
   ]
  },
  {
   "cell_type": "code",
   "execution_count": 15,
   "id": "22147f3c",
   "metadata": {},
   "outputs": [],
   "source": [
    "#use condition to make true and false\n",
    "df = df.withColumn(\n",
    "    'case_closed',\n",
    "    df.case_closed == 'YES'\n",
    "    # F.expr('case_closed == \"YES\"')\n",
    ").withColumn(\n",
    "    'case_late',\n",
    "    F.expr('case_late == \"YES\"')\n",
    ")"
   ]
  },
  {
   "cell_type": "code",
   "execution_count": 16,
   "id": "275f856c",
   "metadata": {},
   "outputs": [
    {
     "data": {
      "text/plain": [
       "[('case_id', 'bigint'),\n",
       " ('case_opened_date', 'timestamp'),\n",
       " ('case_closed_date', 'timestamp'),\n",
       " ('case_due_date', 'timestamp'),\n",
       " ('case_late', 'boolean'),\n",
       " ('num_days_late', 'double'),\n",
       " ('case_closed', 'boolean'),\n",
       " ('dept_division', 'string'),\n",
       " ('service_request_type', 'string'),\n",
       " ('SLA_days', 'double'),\n",
       " ('case_status', 'string'),\n",
       " ('source_id', 'string'),\n",
       " ('request_address', 'string'),\n",
       " ('council_district', 'bigint')]"
      ]
     },
     "execution_count": 16,
     "metadata": {},
     "output_type": "execute_result"
    }
   ],
   "source": [
    "df.dtypes"
   ]
  },
  {
   "cell_type": "code",
   "execution_count": 17,
   "id": "256ef88b",
   "metadata": {},
   "outputs": [
    {
     "name": "stderr",
     "output_type": "stream",
     "text": [
      "23/05/22 12:30:36 WARN TaskSetManager: Stage 3 contains a task of very large size (1346 KiB). The maximum recommended task size is 1000 KiB.\n",
      "[Stage 3:=======>                                                   (1 + 7) / 8]\r"
     ]
    },
    {
     "name": "stdout",
     "output_type": "stream",
     "text": [
      "+-----------+\n",
      "|case_status|\n",
      "+-----------+\n",
      "|       Open|\n",
      "|     Closed|\n",
      "+-----------+\n",
      "\n"
     ]
    },
    {
     "name": "stderr",
     "output_type": "stream",
     "text": [
      "\r",
      "                                                                                \r"
     ]
    }
   ],
   "source": [
    "df.select('case_status').distinct().show()"
   ]
  },
  {
   "cell_type": "code",
   "execution_count": 18,
   "id": "832539ae",
   "metadata": {},
   "outputs": [],
   "source": [
    "df = df.withColumn(\n",
    "    'case_status',\n",
    "    df.case_status == 'Open'\n",
    ")"
   ]
  },
  {
   "cell_type": "code",
   "execution_count": 19,
   "id": "73f3debb",
   "metadata": {},
   "outputs": [
    {
     "name": "stderr",
     "output_type": "stream",
     "text": [
      "23/05/22 12:30:38 WARN TaskSetManager: Stage 6 contains a task of very large size (1346 KiB). The maximum recommended task size is 1000 KiB.\n"
     ]
    },
    {
     "name": "stdout",
     "output_type": "stream",
     "text": [
      "+-----------+\n",
      "|case_status|\n",
      "+-----------+\n",
      "|       true|\n",
      "|      false|\n",
      "+-----------+\n",
      "\n"
     ]
    }
   ],
   "source": [
    "df.select('case_status').distinct().show()"
   ]
  },
  {
   "cell_type": "code",
   "execution_count": 20,
   "id": "7ebdaf45",
   "metadata": {},
   "outputs": [
    {
     "data": {
      "text/plain": [
       "[('case_id', 'bigint'),\n",
       " ('case_opened_date', 'timestamp'),\n",
       " ('case_closed_date', 'timestamp'),\n",
       " ('case_due_date', 'timestamp'),\n",
       " ('case_late', 'boolean'),\n",
       " ('num_days_late', 'double'),\n",
       " ('case_closed', 'boolean'),\n",
       " ('dept_division', 'string'),\n",
       " ('service_request_type', 'string'),\n",
       " ('SLA_days', 'double'),\n",
       " ('case_status', 'boolean'),\n",
       " ('source_id', 'string'),\n",
       " ('request_address', 'string'),\n",
       " ('council_district', 'bigint')]"
      ]
     },
     "execution_count": 20,
     "metadata": {},
     "output_type": "execute_result"
    }
   ],
   "source": [
    "df.dtypes\n"
   ]
  },
  {
   "cell_type": "code",
   "execution_count": 21,
   "id": "79fa9f47",
   "metadata": {},
   "outputs": [],
   "source": [
    "df = df.withColumn(\n",
    "    'request_address',\n",
    "    F.trim(F.lower('request_address'))\n",
    "    ).withColumn(\n",
    "    'service_request_type',\n",
    "    F.trim(F.lower('service_request_type'))\n",
    "    ).withColumn(\n",
    "    'dept_division',\n",
    "    F.trim(F.lower('dept_division'))\n",
    "    )"
   ]
  },
  {
   "cell_type": "code",
   "execution_count": 22,
   "id": "61db6006",
   "metadata": {},
   "outputs": [
    {
     "data": {
      "text/plain": [
       "[('case_id', 'bigint'),\n",
       " ('case_opened_date', 'timestamp'),\n",
       " ('case_closed_date', 'timestamp'),\n",
       " ('case_due_date', 'timestamp'),\n",
       " ('case_late', 'boolean'),\n",
       " ('num_days_late', 'double'),\n",
       " ('case_closed', 'boolean'),\n",
       " ('dept_division', 'string'),\n",
       " ('service_request_type', 'string'),\n",
       " ('SLA_days', 'double'),\n",
       " ('case_status', 'boolean'),\n",
       " ('source_id', 'string'),\n",
       " ('request_address', 'string'),\n",
       " ('council_district', 'bigint')]"
      ]
     },
     "execution_count": 22,
     "metadata": {},
     "output_type": "execute_result"
    }
   ],
   "source": [
    "df.dtypes"
   ]
  },
  {
   "cell_type": "code",
   "execution_count": 23,
   "id": "186b3ff7",
   "metadata": {},
   "outputs": [
    {
     "name": "stdout",
     "output_type": "stream",
     "text": [
      "-RECORD 0----------------------------------------------------\n",
      " case_id              | 1014127332                           \n",
      " case_opened_date     | 2018-01-01 00:42:00                  \n",
      " case_closed_date     | 2018-01-01 12:29:00                  \n",
      " case_due_date        | 2020-09-26 00:42:00                  \n",
      " case_late            | false                                \n",
      " num_days_late        | -998.5087616                         \n",
      " case_closed          | true                                 \n",
      " dept_division        | field operations                     \n",
      " service_request_type | stray animal                         \n",
      " SLA_days             | 999.0                                \n",
      " case_status          | false                                \n",
      " source_id            | svcCRMLS                             \n",
      " request_address      | 2315  el paso st, san antonio, 78207 \n",
      " council_district     | 5                                    \n",
      "-RECORD 1----------------------------------------------------\n",
      " case_id              | 1014127333                           \n",
      " case_opened_date     | 2018-01-01 00:46:00                  \n",
      " case_closed_date     | 2018-01-03 08:11:00                  \n",
      " case_due_date        | 2018-01-05 08:30:00                  \n",
      " case_late            | false                                \n",
      " num_days_late        | -2.012604167                         \n",
      " case_closed          | true                                 \n",
      " dept_division        | storm water                          \n",
      " service_request_type | removal of obstruction               \n",
      " SLA_days             | 4.322222222                          \n",
      " case_status          | false                                \n",
      " source_id            | svcCRMSS                             \n",
      " request_address      | 2215  goliad rd, san antonio, 78223  \n",
      " council_district     | 3                                    \n",
      "only showing top 2 rows\n",
      "\n"
     ]
    },
    {
     "name": "stderr",
     "output_type": "stream",
     "text": [
      "23/05/22 12:30:39 WARN TaskSetManager: Stage 9 contains a task of very large size (1346 KiB). The maximum recommended task size is 1000 KiB.\n"
     ]
    }
   ],
   "source": [
    "df.show(2, vertical=True, truncate=False)"
   ]
  },
  {
   "cell_type": "code",
   "execution_count": 24,
   "id": "27fced4e",
   "metadata": {},
   "outputs": [],
   "source": [
    "df = df.withColumn(\n",
    "    'zip_code',\n",
    "    F.regexp_extract('request_address',\n",
    "                     '(\\d+$)',1)\n",
    ")"
   ]
  },
  {
   "cell_type": "code",
   "execution_count": 25,
   "id": "d0a4d709",
   "metadata": {},
   "outputs": [],
   "source": [
    "# df = df.withColumn(\n",
    "#     'request_address',\n",
    "#     F.regexp_extract('request_address',\n",
    "#                      '((\\d+?)\\s+?(\\w+)\\s+?(\\w+))', 1)\n",
    "# )\n",
    "\n",
    "df = df.withColumn(\n",
    "    'request_address',\n",
    "    F.regexp_extract('request_address',\n",
    "                     '^(.+?),', 1)\n",
    ")"
   ]
  },
  {
   "cell_type": "code",
   "execution_count": 26,
   "id": "a2551474",
   "metadata": {},
   "outputs": [
    {
     "name": "stdout",
     "output_type": "stream",
     "text": [
      "+----------------+\n",
      "| request_address|\n",
      "+----------------+\n",
      "|2315  el paso st|\n",
      "| 2215  goliad rd|\n",
      "+----------------+\n",
      "only showing top 2 rows\n",
      "\n"
     ]
    },
    {
     "name": "stderr",
     "output_type": "stream",
     "text": [
      "23/05/22 12:30:39 WARN TaskSetManager: Stage 10 contains a task of very large size (1346 KiB). The maximum recommended task size is 1000 KiB.\n"
     ]
    }
   ],
   "source": [
    "df.select('request_address').show(2)"
   ]
  },
  {
   "cell_type": "code",
   "execution_count": 27,
   "id": "022871c6",
   "metadata": {},
   "outputs": [],
   "source": [
    "# Finished with the clean!"
   ]
  },
  {
   "cell_type": "markdown",
   "id": "61b535e8",
   "metadata": {},
   "source": [
    "#### 1. How old is the latest (in terms of days past SLA) currently open issue? How long has the oldest (in terms of days since opened) currently opened issue been open?"
   ]
  },
  {
   "cell_type": "code",
   "execution_count": 28,
   "id": "078e328d",
   "metadata": {},
   "outputs": [
    {
     "name": "stderr",
     "output_type": "stream",
     "text": [
      "23/05/22 12:30:40 WARN TaskSetManager: Stage 11 contains a task of very large size (1346 KiB). The maximum recommended task size is 1000 KiB.\n",
      "                                                                                \r"
     ]
    },
    {
     "name": "stdout",
     "output_type": "stream",
     "text": [
      "-RECORD 0------------------------------------------------------\n",
      " case_id              | 1014178781                             \n",
      " case_opened_date     | 2018-01-19 17:07:00                    \n",
      " case_closed_date     | null                                   \n",
      " case_due_date        | 2021-11-25 08:30:00                    \n",
      " case_late            | false                                  \n",
      " num_days_late        | -1204.354167                           \n",
      " case_closed          | false                                  \n",
      " dept_division        | signals                                \n",
      " service_request_type | signal timing modification by engineer \n",
      " SLA_days             | 1405.640856                            \n",
      " case_status          | true                                   \n",
      " source_id            | CRM_Listener                           \n",
      " request_address      |                                        \n",
      " council_district     | 10                                     \n",
      " zip_code             |                                        \n",
      "only showing top 1 row\n",
      "\n"
     ]
    }
   ],
   "source": [
    "df.filter(\n",
    "    df.case_closed == 'false'\n",
    ").filter(\n",
    "    df.SLA_days != 'NaN'\n",
    ").sort(desc('SLA_days')).show(1, vertical=True, truncate=False)\n",
    "\n",
    "# ~1405 days late"
   ]
  },
  {
   "cell_type": "code",
   "execution_count": 29,
   "id": "16a521af",
   "metadata": {},
   "outputs": [],
   "source": [
    "#use datediff() to find the difference between two dates\n",
    "df = df.withColumn(\n",
    "    'case_age',\n",
    "    F.datediff(\n",
    "        F.current_timestamp(),\n",
    "        'case_opened_date'\n",
    "    )\n",
    ")"
   ]
  },
  {
   "cell_type": "code",
   "execution_count": 30,
   "id": "650a6f52",
   "metadata": {},
   "outputs": [
    {
     "name": "stderr",
     "output_type": "stream",
     "text": [
      "23/05/22 12:30:41 WARN TaskSetManager: Stage 12 contains a task of very large size (1346 KiB). The maximum recommended task size is 1000 KiB.\n"
     ]
    },
    {
     "name": "stdout",
     "output_type": "stream",
     "text": [
      "-RECORD 0-----------------------------------\n",
      " case_id              | 1014128388          \n",
      " case_opened_date     | 2018-01-02 09:39:00 \n",
      " case_closed_date     | null                \n",
      " case_due_date        | 2018-01-09 09:39:00 \n",
      " case_late            | true                \n",
      " num_days_late        | 211.5974884         \n",
      " case_closed          | false               \n",
      " dept_division        | 311 call center     \n",
      " service_request_type | complaint           \n",
      " SLA_days             | 7.0                 \n",
      " case_status          | true                \n",
      " source_id            | mt13131             \n",
      " request_address      | 7326  westglade pl  \n",
      " council_district     | 6                   \n",
      " zip_code             | 78227               \n",
      " case_age             | 1966                \n",
      "only showing top 1 row\n",
      "\n"
     ]
    }
   ],
   "source": [
    "df.filter(\n",
    "    df.case_closed == 'false'\n",
    ").sort(desc('case_age')).show(1, vertical=True, truncate=False)\n",
    "\n",
    "# ~1966 days late"
   ]
  },
  {
   "cell_type": "markdown",
   "id": "a97fe1e8",
   "metadata": {},
   "source": [
    "#### 2. How many Stray Animal cases are there?"
   ]
  },
  {
   "cell_type": "code",
   "execution_count": 31,
   "id": "66fddae2",
   "metadata": {},
   "outputs": [
    {
     "name": "stderr",
     "output_type": "stream",
     "text": [
      "23/05/22 12:30:42 WARN TaskSetManager: Stage 13 contains a task of very large size (1346 KiB). The maximum recommended task size is 1000 KiB.\n"
     ]
    },
    {
     "data": {
      "text/plain": [
       "3497"
      ]
     },
     "execution_count": 31,
     "metadata": {},
     "output_type": "execute_result"
    }
   ],
   "source": [
    "df.filter(df.service_request_type == 'stray animal').count()"
   ]
  },
  {
   "cell_type": "markdown",
   "id": "67cc92f2",
   "metadata": {},
   "source": [
    "#### 3. How many service requests that are assigned to the Field Operations department (dept_division) are not classified as \"Officer Standby\" request type (service_request_type)?"
   ]
  },
  {
   "cell_type": "code",
   "execution_count": 32,
   "id": "639bf50a",
   "metadata": {},
   "outputs": [
    {
     "name": "stderr",
     "output_type": "stream",
     "text": [
      "23/05/22 12:30:43 WARN TaskSetManager: Stage 16 contains a task of very large size (1346 KiB). The maximum recommended task size is 1000 KiB.\n"
     ]
    },
    {
     "data": {
      "text/plain": [
       "0"
      ]
     },
     "execution_count": 32,
     "metadata": {},
     "output_type": "execute_result"
    }
   ],
   "source": [
    "df.filter(\n",
    "    (df.dept_division == 'field_operations') & \n",
    "(df.service_request_type != 'officer standby')\n",
    ").count()"
   ]
  },
  {
   "cell_type": "markdown",
   "id": "f7b38367",
   "metadata": {},
   "source": [
    "#### 4. Convert the council_district column to a string column."
   ]
  },
  {
   "cell_type": "code",
   "execution_count": 33,
   "id": "a74e61f6",
   "metadata": {},
   "outputs": [],
   "source": [
    "#use .cast()\n",
    "df = df.withColumn('council_district',\n",
    "             F.col('council_district').cast('string'))"
   ]
  },
  {
   "cell_type": "markdown",
   "id": "ea22d650",
   "metadata": {},
   "source": [
    "#### 5. Extract the year from the case_closed_date column."
   ]
  },
  {
   "cell_type": "code",
   "execution_count": 34,
   "id": "0a5bf332",
   "metadata": {},
   "outputs": [
    {
     "name": "stdout",
     "output_type": "stream",
     "text": [
      "-RECORD 0--------------------------------------\n",
      " case_id              | 1014127332             \n",
      " case_opened_date     | 2018-01-01 00:42:00    \n",
      " case_closed_date     | 2018-01-01 12:29:00    \n",
      " case_due_date        | 2020-09-26 00:42:00    \n",
      " case_late            | false                  \n",
      " num_days_late        | -998.5087616           \n",
      " case_closed          | true                   \n",
      " dept_division        | field operations       \n",
      " service_request_type | stray animal           \n",
      " SLA_days             | 999.0                  \n",
      " case_status          | false                  \n",
      " source_id            | svcCRMLS               \n",
      " request_address      | 2315  el paso st       \n",
      " council_district     | 5                      \n",
      " zip_code             | 78207                  \n",
      " case_age             | 1967                   \n",
      " year                 | 2018                   \n",
      "-RECORD 1--------------------------------------\n",
      " case_id              | 1014127333             \n",
      " case_opened_date     | 2018-01-01 00:46:00    \n",
      " case_closed_date     | 2018-01-03 08:11:00    \n",
      " case_due_date        | 2018-01-05 08:30:00    \n",
      " case_late            | false                  \n",
      " num_days_late        | -2.012604167           \n",
      " case_closed          | true                   \n",
      " dept_division        | storm water            \n",
      " service_request_type | removal of obstruction \n",
      " SLA_days             | 4.322222222            \n",
      " case_status          | false                  \n",
      " source_id            | svcCRMSS               \n",
      " request_address      | 2215  goliad rd        \n",
      " council_district     | 3                      \n",
      " zip_code             | 78223                  \n",
      " case_age             | 1967                   \n",
      " year                 | 2018                   \n",
      "-RECORD 2--------------------------------------\n",
      " case_id              | 1014127334             \n",
      " case_opened_date     | 2018-01-01 00:48:00    \n",
      " case_closed_date     | 2018-01-02 07:57:00    \n",
      " case_due_date        | 2018-01-05 08:30:00    \n",
      " case_late            | false                  \n",
      " num_days_late        | -3.022337963           \n",
      " case_closed          | true                   \n",
      " dept_division        | storm water            \n",
      " service_request_type | removal of obstruction \n",
      " SLA_days             | 4.320729167            \n",
      " case_status          | false                  \n",
      " source_id            | svcCRMSS               \n",
      " request_address      | 102  palfrey st w      \n",
      " council_district     | 3                      \n",
      " zip_code             | 78223                  \n",
      " case_age             | 1967                   \n",
      " year                 | 2018                   \n",
      "only showing top 3 rows\n",
      "\n"
     ]
    },
    {
     "name": "stderr",
     "output_type": "stream",
     "text": [
      "23/05/22 12:30:44 WARN TaskSetManager: Stage 19 contains a task of very large size (1346 KiB). The maximum recommended task size is 1000 KiB.\n"
     ]
    }
   ],
   "source": [
    "df.withColumn(\n",
    "    'year',\n",
    "    F.year(F.col('case_closed_date'))\n",
    ").show(3, vertical=True, truncate=False)"
   ]
  },
  {
   "cell_type": "markdown",
   "id": "2504f95a",
   "metadata": {},
   "source": [
    "#### 6. Convert num_days_late from days to hours in new columns num_hours_late."
   ]
  },
  {
   "cell_type": "code",
   "execution_count": 35,
   "id": "2a4ae7a2",
   "metadata": {},
   "outputs": [
    {
     "name": "stdout",
     "output_type": "stream",
     "text": [
      "-RECORD 0--------------------------------------\n",
      " case_id              | 1014127332             \n",
      " case_opened_date     | 2018-01-01 00:42:00    \n",
      " case_closed_date     | 2018-01-01 12:29:00    \n",
      " case_due_date        | 2020-09-26 00:42:00    \n",
      " case_late            | false                  \n",
      " num_days_late        | -998.5087616           \n",
      " case_closed          | true                   \n",
      " dept_division        | field operations       \n",
      " service_request_type | stray animal           \n",
      " SLA_days             | 999.0                  \n",
      " case_status          | false                  \n",
      " source_id            | svcCRMLS               \n",
      " request_address      | 2315  el paso st       \n",
      " council_district     | 5                      \n",
      " zip_code             | 78207                  \n",
      " case_age             | 1967                   \n",
      " num_hours_late       | -23964.210278399998    \n",
      "-RECORD 1--------------------------------------\n",
      " case_id              | 1014127333             \n",
      " case_opened_date     | 2018-01-01 00:46:00    \n",
      " case_closed_date     | 2018-01-03 08:11:00    \n",
      " case_due_date        | 2018-01-05 08:30:00    \n",
      " case_late            | false                  \n",
      " num_days_late        | -2.012604167           \n",
      " case_closed          | true                   \n",
      " dept_division        | storm water            \n",
      " service_request_type | removal of obstruction \n",
      " SLA_days             | 4.322222222            \n",
      " case_status          | false                  \n",
      " source_id            | svcCRMSS               \n",
      " request_address      | 2215  goliad rd        \n",
      " council_district     | 3                      \n",
      " zip_code             | 78223                  \n",
      " case_age             | 1967                   \n",
      " num_hours_late       | -48.302500008          \n",
      "-RECORD 2--------------------------------------\n",
      " case_id              | 1014127334             \n",
      " case_opened_date     | 2018-01-01 00:48:00    \n",
      " case_closed_date     | 2018-01-02 07:57:00    \n",
      " case_due_date        | 2018-01-05 08:30:00    \n",
      " case_late            | false                  \n",
      " num_days_late        | -3.022337963           \n",
      " case_closed          | true                   \n",
      " dept_division        | storm water            \n",
      " service_request_type | removal of obstruction \n",
      " SLA_days             | 4.320729167            \n",
      " case_status          | false                  \n",
      " source_id            | svcCRMSS               \n",
      " request_address      | 102  palfrey st w      \n",
      " council_district     | 3                      \n",
      " zip_code             | 78223                  \n",
      " case_age             | 1967                   \n",
      " num_hours_late       | -72.536111112          \n",
      "only showing top 3 rows\n",
      "\n"
     ]
    },
    {
     "name": "stderr",
     "output_type": "stream",
     "text": [
      "23/05/22 12:30:45 WARN TaskSetManager: Stage 20 contains a task of very large size (1346 KiB). The maximum recommended task size is 1000 KiB.\n"
     ]
    }
   ],
   "source": [
    "df.withColumn(\n",
    "    'num_hours_late',\n",
    "    (df.num_days_late * 24)\n",
    ").show(3, vertical=True, truncate=False)"
   ]
  },
  {
   "cell_type": "markdown",
   "id": "ab7a061b",
   "metadata": {},
   "source": [
    "#### 7. Join the case data with the source and department data."
   ]
  },
  {
   "cell_type": "code",
   "execution_count": 36,
   "id": "93c4d51d",
   "metadata": {},
   "outputs": [],
   "source": [
    "dept_df = pd.read_csv('dept - dept.csv')"
   ]
  },
  {
   "cell_type": "code",
   "execution_count": 37,
   "id": "39e25338",
   "metadata": {},
   "outputs": [],
   "source": [
    "dept_df = spark.createDataFrame(dept_df)"
   ]
  },
  {
   "cell_type": "code",
   "execution_count": 38,
   "id": "ececa989",
   "metadata": {},
   "outputs": [],
   "source": [
    "dept_df = dept_df.withColumn(\n",
    "    'dept_division',\n",
    "    F.trim(F.lower('dept_division'))\n",
    "    ).withColumn(\n",
    "    'dept_name',\n",
    "    F.trim(F.lower('dept_name'))\n",
    "    ).withColumn(\n",
    "    'standardized_dept_name',\n",
    "    F.trim(F.lower('standardized_dept_name'))\n",
    "    ).withColumn(\n",
    "    'dept_subject_to_SLA',\n",
    "    F.trim(F.lower('dept_subject_to_SLA'))\n",
    ")"
   ]
  },
  {
   "cell_type": "code",
   "execution_count": 39,
   "id": "a1737194",
   "metadata": {},
   "outputs": [],
   "source": [
    "df = df.join(dept_df, how='left', on ='dept_division')"
   ]
  },
  {
   "cell_type": "markdown",
   "id": "3cb6bdd9",
   "metadata": {},
   "source": [
    "#### 8. Are there any cases that do not have a request source?"
   ]
  },
  {
   "cell_type": "code",
   "execution_count": 45,
   "id": "76b20dc9",
   "metadata": {
    "scrolled": true
   },
   "outputs": [
    {
     "name": "stderr",
     "output_type": "stream",
     "text": [
      "23/05/22 13:31:01 WARN TaskSetManager: Stage 33 contains a task of very large size (1346 KiB). The maximum recommended task size is 1000 KiB.\n",
      "                                                                                \r"
     ]
    },
    {
     "name": "stdout",
     "output_type": "stream",
     "text": [
      "+------------+-----+\n",
      "|   source_id|count|\n",
      "+------------+-----+\n",
      "|      136202|  417|\n",
      "|     MW16328| 1329|\n",
      "|      141239|  872|\n",
      "|     df03076|    5|\n",
      "|      141549|  476|\n",
      "|     mp21218| 2005|\n",
      "|     sp26368|   23|\n",
      "|     bo26471|    5|\n",
      "|     sg22264|  281|\n",
      "|     js12254|    5|\n",
      "|     bn26322|   33|\n",
      "|     BA10591|    4|\n",
      "|     ns16326| 2090|\n",
      "|     MB16118|   31|\n",
      "|     rs16746|  359|\n",
      "|      141256|   70|\n",
      "|     ag19640|    1|\n",
      "|     cc17850|  265|\n",
      "|     RG26608|   16|\n",
      "|     me05816| 2147|\n",
      "|     sw26367|   28|\n",
      "|      139342| 2328|\n",
      "|      141954|    1|\n",
      "|      120752| 2060|\n",
      "|     dl05036| 1369|\n",
      "|     NO10960| 2348|\n",
      "|     FR26584|   15|\n",
      "|     WT26601|    7|\n",
      "|     mc21309| 2012|\n",
      "|     DG26131|   20|\n",
      "|     JB26299|   19|\n",
      "|     mt26294|   14|\n",
      "|     ss09159| 1689|\n",
      "|     BM26349|    3|\n",
      "|     af26445|   32|\n",
      "|      141752|    4|\n",
      "|     dl09223|    3|\n",
      "|     dv26072|    3|\n",
      "|      139344| 2385|\n",
      "|      138793| 2272|\n",
      "|     FC24472|   13|\n",
      "|      142738|  541|\n",
      "|      139868| 1824|\n",
      "|     ss21394| 1962|\n",
      "|      140987|  874|\n",
      "|     EP17503|    1|\n",
      "|      138605|   15|\n",
      "|     co26320|   27|\n",
      "|      140436| 1917|\n",
      "|     dc12381| 1628|\n",
      "|      139807|    1|\n",
      "|     gp20685| 1997|\n",
      "|      138810| 1658|\n",
      "|     eg16317|   15|\n",
      "|     ih24384|    6|\n",
      "|     ld04403|   24|\n",
      "|     mt23152|  756|\n",
      "|     sv24848|   74|\n",
      "|      140637|   33|\n",
      "|      106463|  130|\n",
      "|      140508| 2173|\n",
      "|    svcCRMSS|15131|\n",
      "|      135723| 1284|\n",
      "|      138650| 1722|\n",
      "|     dd26293|    7|\n",
      "|     jw10936| 1845|\n",
      "|     em25724|    4|\n",
      "|    svcCRMLS| 2587|\n",
      "|     gg14829|    6|\n",
      "|     DS15677| 1865|\n",
      "|      132408|  114|\n",
      "|      124405|  673|\n",
      "|     mt13131| 2370|\n",
      "|     np26458|    1|\n",
      "|     ps01944|   22|\n",
      "|      142659|  249|\n",
      "|      100137|   51|\n",
      "|      142673|   27|\n",
      "|     yc16753| 1342|\n",
      "|      139345| 2451|\n",
      "|CRM_Listener|24288|\n",
      "|     CV24443|    2|\n",
      "|      119555| 1244|\n",
      "+------------+-----+\n",
      "\n"
     ]
    }
   ],
   "source": [
    "df.groupBy(df.source_id).count().show(100)"
   ]
  },
  {
   "cell_type": "markdown",
   "id": "9b2f75f6",
   "metadata": {},
   "source": [
    "#### 9. What are the top 10 service request types in terms of number of requests?"
   ]
  },
  {
   "cell_type": "code",
   "execution_count": 48,
   "id": "7310d11c",
   "metadata": {},
   "outputs": [
    {
     "ename": "AttributeError",
     "evalue": "'DataFrame' object has no attribute 'desc'",
     "output_type": "error",
     "traceback": [
      "\u001b[0;31m---------------------------------------------------------------------------\u001b[0m",
      "\u001b[0;31mAttributeError\u001b[0m                            Traceback (most recent call last)",
      "Input \u001b[0;32mIn [48]\u001b[0m, in \u001b[0;36m<cell line: 4>\u001b[0;34m()\u001b[0m\n\u001b[1;32m      1\u001b[0m \u001b[38;5;28;01mfrom\u001b[39;00m \u001b[38;5;21;01mpyspark\u001b[39;00m\u001b[38;5;21;01m.\u001b[39;00m\u001b[38;5;21;01msql\u001b[39;00m\u001b[38;5;21;01m.\u001b[39;00m\u001b[38;5;21;01mfunctions\u001b[39;00m \u001b[38;5;28;01mimport\u001b[39;00m asc, desc\n\u001b[0;32m----> 4\u001b[0m \u001b[43mdf\u001b[49m\u001b[38;5;241;43m.\u001b[39;49m\u001b[43mgroupBy\u001b[49m\u001b[43m(\u001b[49m\u001b[43mdf\u001b[49m\u001b[38;5;241;43m.\u001b[39;49m\u001b[43mservice_request_type\u001b[49m\u001b[43m)\u001b[49m\u001b[38;5;241;43m.\u001b[39;49m\u001b[43mcount\u001b[49m\u001b[43m(\u001b[49m\u001b[43m)\u001b[49m\u001b[38;5;241;43m.\u001b[39;49m\u001b[43mdesc\u001b[49m()\n",
      "File \u001b[0;32m/opt/homebrew/anaconda3/lib/python3.9/site-packages/pyspark/sql/dataframe.py:2977\u001b[0m, in \u001b[0;36mDataFrame.__getattr__\u001b[0;34m(self, name)\u001b[0m\n\u001b[1;32m   2944\u001b[0m \u001b[38;5;124;03m\"\"\"Returns the :class:`Column` denoted by ``name``.\u001b[39;00m\n\u001b[1;32m   2945\u001b[0m \n\u001b[1;32m   2946\u001b[0m \u001b[38;5;124;03m.. versionadded:: 1.3.0\u001b[39;00m\n\u001b[0;32m   (...)\u001b[0m\n\u001b[1;32m   2974\u001b[0m \u001b[38;5;124;03m+---+\u001b[39;00m\n\u001b[1;32m   2975\u001b[0m \u001b[38;5;124;03m\"\"\"\u001b[39;00m\n\u001b[1;32m   2976\u001b[0m \u001b[38;5;28;01mif\u001b[39;00m name \u001b[38;5;129;01mnot\u001b[39;00m \u001b[38;5;129;01min\u001b[39;00m \u001b[38;5;28mself\u001b[39m\u001b[38;5;241m.\u001b[39mcolumns:\n\u001b[0;32m-> 2977\u001b[0m     \u001b[38;5;28;01mraise\u001b[39;00m \u001b[38;5;167;01mAttributeError\u001b[39;00m(\n\u001b[1;32m   2978\u001b[0m         \u001b[38;5;124m\"\u001b[39m\u001b[38;5;124m'\u001b[39m\u001b[38;5;132;01m%s\u001b[39;00m\u001b[38;5;124m'\u001b[39m\u001b[38;5;124m object has no attribute \u001b[39m\u001b[38;5;124m'\u001b[39m\u001b[38;5;132;01m%s\u001b[39;00m\u001b[38;5;124m'\u001b[39m\u001b[38;5;124m\"\u001b[39m \u001b[38;5;241m%\u001b[39m (\u001b[38;5;28mself\u001b[39m\u001b[38;5;241m.\u001b[39m\u001b[38;5;18m__class__\u001b[39m\u001b[38;5;241m.\u001b[39m\u001b[38;5;18m__name__\u001b[39m, name)\n\u001b[1;32m   2979\u001b[0m     )\n\u001b[1;32m   2980\u001b[0m jc \u001b[38;5;241m=\u001b[39m \u001b[38;5;28mself\u001b[39m\u001b[38;5;241m.\u001b[39m_jdf\u001b[38;5;241m.\u001b[39mapply(name)\n\u001b[1;32m   2981\u001b[0m \u001b[38;5;28;01mreturn\u001b[39;00m Column(jc)\n",
      "\u001b[0;31mAttributeError\u001b[0m: 'DataFrame' object has no attribute 'desc'"
     ]
    }
   ],
   "source": []
  },
  {
   "cell_type": "code",
   "execution_count": null,
   "id": "a6eeccd8",
   "metadata": {},
   "outputs": [],
   "source": []
  },
  {
   "cell_type": "code",
   "execution_count": null,
   "id": "171b85c8",
   "metadata": {},
   "outputs": [],
   "source": []
  },
  {
   "cell_type": "code",
   "execution_count": null,
   "id": "78e054fd",
   "metadata": {},
   "outputs": [],
   "source": []
  },
  {
   "cell_type": "code",
   "execution_count": null,
   "id": "4e2ac482",
   "metadata": {},
   "outputs": [],
   "source": []
  },
  {
   "cell_type": "code",
   "execution_count": null,
   "id": "5e2611cb",
   "metadata": {},
   "outputs": [],
   "source": []
  },
  {
   "cell_type": "code",
   "execution_count": null,
   "id": "4cc1f74b",
   "metadata": {},
   "outputs": [],
   "source": []
  },
  {
   "cell_type": "code",
   "execution_count": null,
   "id": "f18b1aa4",
   "metadata": {},
   "outputs": [],
   "source": []
  }
 ],
 "metadata": {
  "kernelspec": {
   "display_name": "Python 3 (ipykernel)",
   "language": "python",
   "name": "python3"
  },
  "language_info": {
   "codemirror_mode": {
    "name": "ipython",
    "version": 3
   },
   "file_extension": ".py",
   "mimetype": "text/x-python",
   "name": "python",
   "nbconvert_exporter": "python",
   "pygments_lexer": "ipython3",
   "version": "3.9.13"
  }
 },
 "nbformat": 4,
 "nbformat_minor": 5
}
