{
 "cells": [
  {
   "cell_type": "markdown",
   "id": "ea3879fa",
   "metadata": {},
   "source": [
    "# Spark Data Wrangling"
   ]
  },
  {
   "cell_type": "code",
   "execution_count": 1,
   "id": "693fba94",
   "metadata": {},
   "outputs": [],
   "source": [
    "import pandas as pd\n",
    "\n",
    "from pyspark.sql import SparkSession\n",
    "from pyspark.sql.functions import * \n",
    "\n",
    "from env import username, password, host"
   ]
  },
  {
   "cell_type": "markdown",
   "id": "8f66c455",
   "metadata": {},
   "source": [
    "## Acquire"
   ]
  },
  {
   "cell_type": "code",
   "execution_count": 3,
   "id": "755438f6",
   "metadata": {},
   "outputs": [
    {
     "name": "stderr",
     "output_type": "stream",
     "text": [
      "Setting default log level to \"WARN\".\n",
      "To adjust logging level use sc.setLogLevel(newLevel). For SparkR, use setLogLevel(newLevel).\n",
      "23/05/19 14:09:50 WARN NativeCodeLoader: Unable to load native-hadoop library for your platform... using builtin-java classes where applicable\n",
      "23/05/19 14:09:51 WARN Utils: Service 'SparkUI' could not bind on port 4040. Attempting port 4041.\n"
     ]
    },
    {
     "data": {
      "text/html": [
       "\n",
       "            <div>\n",
       "                <p><b>SparkSession - in-memory</b></p>\n",
       "                \n",
       "        <div>\n",
       "            <p><b>SparkContext</b></p>\n",
       "\n",
       "            <p><a href=\"http://carolines-mbp:4041\">Spark UI</a></p>\n",
       "\n",
       "            <dl>\n",
       "              <dt>Version</dt>\n",
       "                <dd><code>v3.4.0</code></dd>\n",
       "              <dt>Master</dt>\n",
       "                <dd><code>local[*]</code></dd>\n",
       "              <dt>AppName</dt>\n",
       "                <dd><code>pyspark-shell</code></dd>\n",
       "            </dl>\n",
       "        </div>\n",
       "        \n",
       "            </div>\n",
       "        "
      ],
      "text/plain": [
       "<pyspark.sql.session.SparkSession at 0x10e48d1f0>"
      ]
     },
     "execution_count": 3,
     "metadata": {},
     "output_type": "execute_result"
    }
   ],
   "source": [
    "#create enviroment\n",
    "spark = SparkSession.builder.getOrCreate()\n",
    "spark"
   ]
  },
  {
   "cell_type": "markdown",
   "id": "5ae2fc66",
   "metadata": {},
   "source": [
    "### load mpg data set from pydataset"
   ]
  },
  {
   "cell_type": "code",
   "execution_count": 15,
   "id": "551e9942",
   "metadata": {},
   "outputs": [],
   "source": [
    "from pydataset import data"
   ]
  },
  {
   "cell_type": "code",
   "execution_count": 16,
   "id": "c9e58c68",
   "metadata": {},
   "outputs": [
    {
     "data": {
      "text/plain": [
       "DataFrame[manufacturer: string, model: string, displ: double, year: bigint, cyl: bigint, trans: string, drv: string, cty: bigint, hwy: bigint, fl: string, class: string]"
      ]
     },
     "execution_count": 16,
     "metadata": {},
     "output_type": "execute_result"
    }
   ],
   "source": [
    "mpg = spark.createDataFrame(data('mpg'))\n",
    "mpg"
   ]
  },
  {
   "cell_type": "code",
   "execution_count": 17,
   "id": "83c87000",
   "metadata": {},
   "outputs": [
    {
     "name": "stdout",
     "output_type": "stream",
     "text": [
      "+------------+-----+-----+----+---+----------+---+---+---+---+-------+\n",
      "|manufacturer|model|displ|year|cyl|     trans|drv|cty|hwy| fl|  class|\n",
      "+------------+-----+-----+----+---+----------+---+---+---+---+-------+\n",
      "|        audi|   a4|  1.8|1999|  4|  auto(l5)|  f| 18| 29|  p|compact|\n",
      "|        audi|   a4|  1.8|1999|  4|manual(m5)|  f| 21| 29|  p|compact|\n",
      "|        audi|   a4|  2.0|2008|  4|manual(m6)|  f| 20| 31|  p|compact|\n",
      "|        audi|   a4|  2.0|2008|  4|  auto(av)|  f| 21| 30|  p|compact|\n",
      "|        audi|   a4|  2.8|1999|  6|  auto(l5)|  f| 16| 26|  p|compact|\n",
      "+------------+-----+-----+----+---+----------+---+---+---+---+-------+\n",
      "only showing top 5 rows\n",
      "\n"
     ]
    }
   ],
   "source": [
    "mpg.show(5)"
   ]
  },
  {
   "cell_type": "markdown",
   "id": "b6b59db6",
   "metadata": {},
   "source": [
    "### write datafame to file"
   ]
  },
  {
   "cell_type": "markdown",
   "id": "30572adc",
   "metadata": {},
   "source": [
    "- `json`: for writing to a local json file(s)\n",
    "- `csv`: for writing to a local csv file(s)\n",
    "- `parquet`: Parquet is a very popular columnar storage format for Hadoop.\n",
    "- `jdbc`: for writing to a SQL database table"
   ]
  },
  {
   "cell_type": "markdown",
   "id": "74e8bbb4",
   "metadata": {},
   "source": [
    "#### write file to json"
   ]
  },
  {
   "cell_type": "code",
   "execution_count": 18,
   "id": "d8d07a63",
   "metadata": {},
   "outputs": [
    {
     "name": "stderr",
     "output_type": "stream",
     "text": [
      "                                                                                \r"
     ]
    }
   ],
   "source": [
    "#df.write.type\n",
    "mpg.write.json('data/mpg_json', mode='overwrite')"
   ]
  },
  {
   "cell_type": "code",
   "execution_count": 19,
   "id": "4c24da1a",
   "metadata": {},
   "outputs": [],
   "source": [
    "import os"
   ]
  },
  {
   "cell_type": "code",
   "execution_count": 23,
   "id": "2dfc5274",
   "metadata": {},
   "outputs": [
    {
     "data": {
      "text/plain": [
       "['part-00006-6d4ea11d-5c5b-4576-b097-3a1ae9d4d01d-c000.json',\n",
       " 'part-00003-6d4ea11d-5c5b-4576-b097-3a1ae9d4d01d-c000.json',\n",
       " 'part-00001-6d4ea11d-5c5b-4576-b097-3a1ae9d4d01d-c000.json',\n",
       " 'part-00004-6d4ea11d-5c5b-4576-b097-3a1ae9d4d01d-c000.json',\n",
       " 'part-00005-6d4ea11d-5c5b-4576-b097-3a1ae9d4d01d-c000.json',\n",
       " 'part-00000-6d4ea11d-5c5b-4576-b097-3a1ae9d4d01d-c000.json',\n",
       " '_SUCCESS',\n",
       " 'part-00002-6d4ea11d-5c5b-4576-b097-3a1ae9d4d01d-c000.json',\n",
       " 'part-00007-6d4ea11d-5c5b-4576-b097-3a1ae9d4d01d-c000.json']"
      ]
     },
     "execution_count": 23,
     "metadata": {},
     "output_type": "execute_result"
    }
   ],
   "source": [
    "[fn for fn in os.listdir('data/mpg_json') if not fn.startswith('.')]"
   ]
  },
  {
   "cell_type": "code",
   "execution_count": 25,
   "id": "76fc494a",
   "metadata": {},
   "outputs": [],
   "source": [
    "first_file = [fn for fn in os.listdir('data/mpg_json') if not fn.startswith('.')][0]"
   ]
  },
  {
   "cell_type": "code",
   "execution_count": 32,
   "id": "056a0481",
   "metadata": {},
   "outputs": [
    {
     "data": {
      "text/plain": [
       "'part-00006-6d4ea11d-5c5b-4576-b097-3a1ae9d4d01d-c000.json'"
      ]
     },
     "execution_count": 32,
     "metadata": {},
     "output_type": "execute_result"
    }
   ],
   "source": [
    "first_file"
   ]
  },
  {
   "cell_type": "code",
   "execution_count": 33,
   "id": "7f9c4dd9",
   "metadata": {},
   "outputs": [
    {
     "data": {
      "text/plain": [
       "57"
      ]
     },
     "execution_count": 33,
     "metadata": {},
     "output_type": "execute_result"
    }
   ],
   "source": [
    "len(first_file)"
   ]
  },
  {
   "cell_type": "code",
   "execution_count": 28,
   "id": "92fbfaef",
   "metadata": {},
   "outputs": [
    {
     "name": "stdout",
     "output_type": "stream",
     "text": [
      "+-------+---+---+-----+---+---+---+------------+------------+----------+----+\n",
      "|  class|cty|cyl|displ|drv| fl|hwy|manufacturer|       model|     trans|year|\n",
      "+-------+---+---+-----+---+---+---+------------+------------+----------+----+\n",
      "|    suv| 16|  4|  2.7|  4|  r| 20|      toyota| 4runner 4wd|  auto(l4)|1999|\n",
      "|    suv| 15|  6|  3.4|  4|  r| 19|      toyota| 4runner 4wd|  auto(l4)|1999|\n",
      "|    suv| 15|  6|  3.4|  4|  r| 17|      toyota| 4runner 4wd|manual(m5)|1999|\n",
      "|    suv| 16|  6|  4.0|  4|  r| 20|      toyota| 4runner 4wd|  auto(l5)|2008|\n",
      "|    suv| 14|  8|  4.7|  4|  r| 17|      toyota| 4runner 4wd|  auto(l5)|2008|\n",
      "|midsize| 21|  4|  2.2|  f|  r| 29|      toyota|       camry|manual(m5)|1999|\n",
      "|midsize| 21|  4|  2.2|  f|  r| 27|      toyota|       camry|  auto(l4)|1999|\n",
      "|midsize| 21|  4|  2.4|  f|  r| 31|      toyota|       camry|manual(m5)|2008|\n",
      "|midsize| 21|  4|  2.4|  f|  r| 31|      toyota|       camry|  auto(l5)|2008|\n",
      "|midsize| 18|  6|  3.0|  f|  r| 26|      toyota|       camry|  auto(l4)|1999|\n",
      "|midsize| 18|  6|  3.0|  f|  r| 26|      toyota|       camry|manual(m5)|1999|\n",
      "|midsize| 19|  6|  3.5|  f|  r| 28|      toyota|       camry|  auto(s6)|2008|\n",
      "|compact| 21|  4|  2.2|  f|  r| 27|      toyota|camry solara|  auto(l4)|1999|\n",
      "|compact| 21|  4|  2.2|  f|  r| 29|      toyota|camry solara|manual(m5)|1999|\n",
      "|compact| 21|  4|  2.4|  f|  r| 31|      toyota|camry solara|manual(m5)|2008|\n",
      "|compact| 22|  4|  2.4|  f|  r| 31|      toyota|camry solara|  auto(s5)|2008|\n",
      "|compact| 18|  6|  3.0|  f|  r| 26|      toyota|camry solara|  auto(l4)|1999|\n",
      "|compact| 18|  6|  3.0|  f|  r| 26|      toyota|camry solara|manual(m5)|1999|\n",
      "|compact| 18|  6|  3.3|  f|  r| 27|      toyota|camry solara|  auto(s5)|2008|\n",
      "|compact| 24|  4|  1.8|  f|  r| 30|      toyota|     corolla|  auto(l3)|1999|\n",
      "+-------+---+---+-----+---+---+---+------------+------------+----------+----+\n",
      "only showing top 20 rows\n",
      "\n"
     ]
    }
   ],
   "source": [
    "spark.read.json(f'data/mpg_json/{first_file}').show()"
   ]
  },
  {
   "cell_type": "code",
   "execution_count": 29,
   "id": "bd7fdcb0",
   "metadata": {},
   "outputs": [
    {
     "data": {
      "text/plain": [
       "29"
      ]
     },
     "execution_count": 29,
     "metadata": {},
     "output_type": "execute_result"
    }
   ],
   "source": [
    "spark.read.json(f'data/mpg_json/{first_file}').count()"
   ]
  },
  {
   "cell_type": "code",
   "execution_count": 30,
   "id": "2354567a",
   "metadata": {},
   "outputs": [
    {
     "data": {
      "text/plain": [
       "234"
      ]
     },
     "execution_count": 30,
     "metadata": {},
     "output_type": "execute_result"
    }
   ],
   "source": [
    "spark.read.json('data/mpg_json').count()"
   ]
  },
  {
   "cell_type": "markdown",
   "id": "bf08c75f",
   "metadata": {},
   "source": [
    "#### write dataframe to csv"
   ]
  },
  {
   "cell_type": "code",
   "execution_count": 34,
   "id": "21463422",
   "metadata": {},
   "outputs": [
    {
     "name": "stderr",
     "output_type": "stream",
     "text": [
      "\r",
      "[Stage 14:>                                                         (0 + 8) / 8]\r",
      "\r",
      "                                                                                \r"
     ]
    }
   ],
   "source": [
    "#df.write.format()\n",
    "(\n",
    "mpg.write.format('csv')\n",
    "    .mode('overwrite')\n",
    "    .option('header', 'True')\n",
    "    .save('data/mpg_csv')\n",
    ")"
   ]
  },
  {
   "cell_type": "code",
   "execution_count": null,
   "id": "a8463047",
   "metadata": {},
   "outputs": [],
   "source": []
  },
  {
   "cell_type": "code",
   "execution_count": null,
   "id": "18d0c1e5",
   "metadata": {},
   "outputs": [],
   "source": []
  },
  {
   "cell_type": "code",
   "execution_count": null,
   "id": "b511cbdd",
   "metadata": {},
   "outputs": [],
   "source": []
  },
  {
   "cell_type": "markdown",
   "id": "6b2b6a58",
   "metadata": {},
   "source": [
    "### read files\n",
    "- spark.read.[type]"
   ]
  },
  {
   "cell_type": "markdown",
   "id": "c057159b",
   "metadata": {},
   "source": [
    "#### read json"
   ]
  },
  {
   "cell_type": "code",
   "execution_count": 36,
   "id": "a1b559fd",
   "metadata": {},
   "outputs": [
    {
     "data": {
      "text/plain": [
       "29"
      ]
     },
     "execution_count": 36,
     "metadata": {},
     "output_type": "execute_result"
    }
   ],
   "source": [
    "spark.read.json(f'data/mpg_json/{first_file}').count()"
   ]
  },
  {
   "cell_type": "markdown",
   "id": "e380e06a",
   "metadata": {},
   "source": [
    "#### read csv"
   ]
  },
  {
   "cell_type": "code",
   "execution_count": 35,
   "id": "e36ea678",
   "metadata": {},
   "outputs": [
    {
     "name": "stderr",
     "output_type": "stream",
     "text": [
      "\r",
      "[Stage 16:==========================================================(8 + 0) / 8]\r",
      "\r",
      "                                                                                \r"
     ]
    },
    {
     "data": {
      "text/plain": [
       "234"
      ]
     },
     "execution_count": 35,
     "metadata": {},
     "output_type": "execute_result"
    }
   ],
   "source": [
    "#keep written csv headers\n",
    "(\n",
    "    spark.read.format(\"csv\")\n",
    "      .option(\"header\", True)\n",
    "      .load(\"data/mpg_csv\")\n",
    ").count()"
   ]
  },
  {
   "cell_type": "code",
   "execution_count": null,
   "id": "df69b4b5",
   "metadata": {},
   "outputs": [],
   "source": []
  },
  {
   "cell_type": "markdown",
   "id": "c839b2a6",
   "metadata": {},
   "source": [
    "### load source from 311_data in sql"
   ]
  },
  {
   "cell_type": "code",
   "execution_count": 8,
   "id": "d3abd192",
   "metadata": {},
   "outputs": [],
   "source": [
    "#sql query\n",
    "url = get_db_url('311_data')\n",
    "query = 'select source_id, source_username from source'"
   ]
  },
  {
   "cell_type": "code",
   "execution_count": 13,
   "id": "017046b4",
   "metadata": {},
   "outputs": [],
   "source": [
    "df = pd.read_csv('311 - 311.csv')"
   ]
  },
  {
   "cell_type": "code",
   "execution_count": 37,
   "id": "0cc3aab8",
   "metadata": {},
   "outputs": [
    {
     "data": {
      "text/html": [
       "<div>\n",
       "<style scoped>\n",
       "    .dataframe tbody tr th:only-of-type {\n",
       "        vertical-align: middle;\n",
       "    }\n",
       "\n",
       "    .dataframe tbody tr th {\n",
       "        vertical-align: top;\n",
       "    }\n",
       "\n",
       "    .dataframe thead th {\n",
       "        text-align: right;\n",
       "    }\n",
       "</style>\n",
       "<table border=\"1\" class=\"dataframe\">\n",
       "  <thead>\n",
       "    <tr style=\"text-align: right;\">\n",
       "      <th></th>\n",
       "      <th>case_id</th>\n",
       "      <th>case_opened_date</th>\n",
       "      <th>case_closed_date</th>\n",
       "      <th>SLA_due_date</th>\n",
       "      <th>case_late</th>\n",
       "      <th>num_days_late</th>\n",
       "      <th>case_closed</th>\n",
       "      <th>dept_division</th>\n",
       "      <th>service_request_type</th>\n",
       "      <th>SLA_days</th>\n",
       "      <th>case_status</th>\n",
       "      <th>source_id</th>\n",
       "      <th>request_address</th>\n",
       "      <th>council_district</th>\n",
       "    </tr>\n",
       "  </thead>\n",
       "  <tbody>\n",
       "    <tr>\n",
       "      <th>0</th>\n",
       "      <td>1014127332</td>\n",
       "      <td>1/1/18 0:42</td>\n",
       "      <td>1/1/18 12:29</td>\n",
       "      <td>9/26/20 0:42</td>\n",
       "      <td>NO</td>\n",
       "      <td>-998.508762</td>\n",
       "      <td>YES</td>\n",
       "      <td>Field Operations</td>\n",
       "      <td>Stray Animal</td>\n",
       "      <td>999.000000</td>\n",
       "      <td>Closed</td>\n",
       "      <td>svcCRMLS</td>\n",
       "      <td>2315  EL PASO ST, San Antonio, 78207</td>\n",
       "      <td>5</td>\n",
       "    </tr>\n",
       "    <tr>\n",
       "      <th>1</th>\n",
       "      <td>1014127333</td>\n",
       "      <td>1/1/18 0:46</td>\n",
       "      <td>1/3/18 8:11</td>\n",
       "      <td>1/5/18 8:30</td>\n",
       "      <td>NO</td>\n",
       "      <td>-2.012604</td>\n",
       "      <td>YES</td>\n",
       "      <td>Storm Water</td>\n",
       "      <td>Removal Of Obstruction</td>\n",
       "      <td>4.322222</td>\n",
       "      <td>Closed</td>\n",
       "      <td>svcCRMSS</td>\n",
       "      <td>2215  GOLIAD RD, San Antonio, 78223</td>\n",
       "      <td>3</td>\n",
       "    </tr>\n",
       "    <tr>\n",
       "      <th>2</th>\n",
       "      <td>1014127334</td>\n",
       "      <td>1/1/18 0:48</td>\n",
       "      <td>1/2/18 7:57</td>\n",
       "      <td>1/5/18 8:30</td>\n",
       "      <td>NO</td>\n",
       "      <td>-3.022338</td>\n",
       "      <td>YES</td>\n",
       "      <td>Storm Water</td>\n",
       "      <td>Removal Of Obstruction</td>\n",
       "      <td>4.320729</td>\n",
       "      <td>Closed</td>\n",
       "      <td>svcCRMSS</td>\n",
       "      <td>102  PALFREY ST W, San Antonio, 78223</td>\n",
       "      <td>3</td>\n",
       "    </tr>\n",
       "    <tr>\n",
       "      <th>3</th>\n",
       "      <td>1014127335</td>\n",
       "      <td>1/1/18 1:29</td>\n",
       "      <td>1/2/18 8:13</td>\n",
       "      <td>1/17/18 8:30</td>\n",
       "      <td>NO</td>\n",
       "      <td>-15.011481</td>\n",
       "      <td>YES</td>\n",
       "      <td>Code Enforcement</td>\n",
       "      <td>Front Or Side Yard Parking</td>\n",
       "      <td>16.291887</td>\n",
       "      <td>Closed</td>\n",
       "      <td>svcCRMSS</td>\n",
       "      <td>114  LA GARDE ST, San Antonio, 78223</td>\n",
       "      <td>3</td>\n",
       "    </tr>\n",
       "    <tr>\n",
       "      <th>4</th>\n",
       "      <td>1014127336</td>\n",
       "      <td>1/1/18 1:34</td>\n",
       "      <td>1/1/18 13:29</td>\n",
       "      <td>1/1/18 4:34</td>\n",
       "      <td>YES</td>\n",
       "      <td>0.372164</td>\n",
       "      <td>YES</td>\n",
       "      <td>Field Operations</td>\n",
       "      <td>Animal Cruelty(Critical)</td>\n",
       "      <td>0.125000</td>\n",
       "      <td>Closed</td>\n",
       "      <td>svcCRMSS</td>\n",
       "      <td>734  CLEARVIEW DR, San Antonio, 78228</td>\n",
       "      <td>7</td>\n",
       "    </tr>\n",
       "  </tbody>\n",
       "</table>\n",
       "</div>"
      ],
      "text/plain": [
       "      case_id case_opened_date case_closed_date  SLA_due_date case_late  \\\n",
       "0  1014127332      1/1/18 0:42     1/1/18 12:29  9/26/20 0:42        NO   \n",
       "1  1014127333      1/1/18 0:46      1/3/18 8:11   1/5/18 8:30        NO   \n",
       "2  1014127334      1/1/18 0:48      1/2/18 7:57   1/5/18 8:30        NO   \n",
       "3  1014127335      1/1/18 1:29      1/2/18 8:13  1/17/18 8:30        NO   \n",
       "4  1014127336      1/1/18 1:34     1/1/18 13:29   1/1/18 4:34       YES   \n",
       "\n",
       "   num_days_late case_closed     dept_division        service_request_type  \\\n",
       "0    -998.508762         YES  Field Operations                Stray Animal   \n",
       "1      -2.012604         YES       Storm Water      Removal Of Obstruction   \n",
       "2      -3.022338         YES       Storm Water      Removal Of Obstruction   \n",
       "3     -15.011481         YES  Code Enforcement  Front Or Side Yard Parking   \n",
       "4       0.372164         YES  Field Operations    Animal Cruelty(Critical)   \n",
       "\n",
       "     SLA_days case_status source_id                        request_address  \\\n",
       "0  999.000000      Closed  svcCRMLS   2315  EL PASO ST, San Antonio, 78207   \n",
       "1    4.322222      Closed  svcCRMSS    2215  GOLIAD RD, San Antonio, 78223   \n",
       "2    4.320729      Closed  svcCRMSS  102  PALFREY ST W, San Antonio, 78223   \n",
       "3   16.291887      Closed  svcCRMSS   114  LA GARDE ST, San Antonio, 78223   \n",
       "4    0.125000      Closed  svcCRMSS  734  CLEARVIEW DR, San Antonio, 78228   \n",
       "\n",
       "   council_district  \n",
       "0                 5  \n",
       "1                 3  \n",
       "2                 3  \n",
       "3                 3  \n",
       "4                 7  "
      ]
     },
     "execution_count": 37,
     "metadata": {},
     "output_type": "execute_result"
    }
   ],
   "source": [
    "df.head()"
   ]
  },
  {
   "cell_type": "markdown",
   "id": "5769739f",
   "metadata": {},
   "source": [
    "### load cases from 311_data from sql"
   ]
  },
  {
   "cell_type": "code",
   "execution_count": null,
   "id": "54618aed",
   "metadata": {},
   "outputs": [],
   "source": [
    "#sql query\n",
    "query = 'select * from cases limit 100000'"
   ]
  },
  {
   "cell_type": "code",
   "execution_count": null,
   "id": "77ee891f",
   "metadata": {},
   "outputs": [],
   "source": [
    "#pandas df\n",
    "# pandas_df = pd.read_sql(query, url)"
   ]
  },
  {
   "cell_type": "code",
   "execution_count": null,
   "id": "cbb9b4e0",
   "metadata": {},
   "outputs": [],
   "source": [
    "#spark df\n",
    "# df = spark.createDataFrame(pandas_df)\n",
    "# df"
   ]
  },
  {
   "cell_type": "code",
   "execution_count": 39,
   "id": "b52861a4",
   "metadata": {},
   "outputs": [],
   "source": [
    "df = spark.createDataFrame(df)"
   ]
  },
  {
   "cell_type": "code",
   "execution_count": 40,
   "id": "47c4e583",
   "metadata": {},
   "outputs": [
    {
     "name": "stderr",
     "output_type": "stream",
     "text": [
      "23/05/19 14:49:07 WARN TaskSetManager: Stage 23 contains a task of very large size (1346 KiB). The maximum recommended task size is 1000 KiB.\n"
     ]
    },
    {
     "name": "stdout",
     "output_type": "stream",
     "text": [
      "-RECORD 0-----------------------------------------------------\n",
      " case_id              | 1014127332                            \n",
      " case_opened_date     | 1/1/18 0:42                           \n",
      " case_closed_date     | 1/1/18 12:29                          \n",
      " SLA_due_date         | 9/26/20 0:42                          \n",
      " case_late            | NO                                    \n",
      " num_days_late        | -998.5087616                          \n",
      " case_closed          | YES                                   \n",
      " dept_division        | Field Operations                      \n",
      " service_request_type | Stray Animal                          \n",
      " SLA_days             | 999.0                                 \n",
      " case_status          | Closed                                \n",
      " source_id            | svcCRMLS                              \n",
      " request_address      | 2315  EL PASO ST, San Antonio, 78207  \n",
      " council_district     | 5                                     \n",
      "-RECORD 1-----------------------------------------------------\n",
      " case_id              | 1014127333                            \n",
      " case_opened_date     | 1/1/18 0:46                           \n",
      " case_closed_date     | 1/3/18 8:11                           \n",
      " SLA_due_date         | 1/5/18 8:30                           \n",
      " case_late            | NO                                    \n",
      " num_days_late        | -2.012604167                          \n",
      " case_closed          | YES                                   \n",
      " dept_division        | Storm Water                           \n",
      " service_request_type | Removal Of Obstruction                \n",
      " SLA_days             | 4.322222222                           \n",
      " case_status          | Closed                                \n",
      " source_id            | svcCRMSS                              \n",
      " request_address      | 2215  GOLIAD RD, San Antonio, 78223   \n",
      " council_district     | 3                                     \n",
      "-RECORD 2-----------------------------------------------------\n",
      " case_id              | 1014127334                            \n",
      " case_opened_date     | 1/1/18 0:48                           \n",
      " case_closed_date     | 1/2/18 7:57                           \n",
      " SLA_due_date         | 1/5/18 8:30                           \n",
      " case_late            | NO                                    \n",
      " num_days_late        | -3.022337963                          \n",
      " case_closed          | YES                                   \n",
      " dept_division        | Storm Water                           \n",
      " service_request_type | Removal Of Obstruction                \n",
      " SLA_days             | 4.320729167                           \n",
      " case_status          | Closed                                \n",
      " source_id            | svcCRMSS                              \n",
      " request_address      | 102  PALFREY ST W, San Antonio, 78223 \n",
      " council_district     | 3                                     \n",
      "only showing top 3 rows\n",
      "\n"
     ]
    }
   ],
   "source": [
    "df.show(3, vertical=True, truncate=False)"
   ]
  },
  {
   "cell_type": "markdown",
   "id": "9df26f2f",
   "metadata": {},
   "source": [
    "## Prepare"
   ]
  },
  {
   "cell_type": "markdown",
   "id": "44c3f40e",
   "metadata": {},
   "source": [
    "- rename columns\n",
    "- correct datatypes\n",
    "- data transformation\n",
    "- make new features\n",
    "- join tables"
   ]
  },
  {
   "cell_type": "markdown",
   "id": "a0aec4fe",
   "metadata": {},
   "source": [
    "### rename columns"
   ]
  },
  {
   "cell_type": "code",
   "execution_count": null,
   "id": "5462a9ed",
   "metadata": {},
   "outputs": [],
   "source": []
  },
  {
   "cell_type": "markdown",
   "id": "0a5929b1",
   "metadata": {},
   "source": [
    "#### change SLA_due_date to case_due_date"
   ]
  },
  {
   "cell_type": "code",
   "execution_count": 45,
   "id": "cbc584b6",
   "metadata": {},
   "outputs": [],
   "source": [
    "df = df.withColumnRenamed('SLA_due-date', 'case_due_date')"
   ]
  },
  {
   "cell_type": "code",
   "execution_count": 46,
   "id": "ee8af56e",
   "metadata": {},
   "outputs": [
    {
     "name": "stdout",
     "output_type": "stream",
     "text": [
      "-RECORD 0-----------------------------------------------------\n",
      " case_id              | 1014127332                            \n",
      " case_opened_date     | 1/1/18 0:42                           \n",
      " case_closed_date     | 1/1/18 12:29                          \n",
      " SLA_due_date         | 9/26/20 0:42                          \n",
      " case_late            | NO                                    \n",
      " num_days_late        | -998.5087616                          \n",
      " case_closed          | YES                                   \n",
      " dept_division        | Field Operations                      \n",
      " service_request_type | Stray Animal                          \n",
      " SLA_days             | 999.0                                 \n",
      " case_status          | Closed                                \n",
      " source_id            | svcCRMLS                              \n",
      " request_address      | 2315  EL PASO ST, San Antonio, 78207  \n",
      " council_district     | 5                                     \n",
      "-RECORD 1-----------------------------------------------------\n",
      " case_id              | 1014127333                            \n",
      " case_opened_date     | 1/1/18 0:46                           \n",
      " case_closed_date     | 1/3/18 8:11                           \n",
      " SLA_due_date         | 1/5/18 8:30                           \n",
      " case_late            | NO                                    \n",
      " num_days_late        | -2.012604167                          \n",
      " case_closed          | YES                                   \n",
      " dept_division        | Storm Water                           \n",
      " service_request_type | Removal Of Obstruction                \n",
      " SLA_days             | 4.322222222                           \n",
      " case_status          | Closed                                \n",
      " source_id            | svcCRMSS                              \n",
      " request_address      | 2215  GOLIAD RD, San Antonio, 78223   \n",
      " council_district     | 3                                     \n",
      "-RECORD 2-----------------------------------------------------\n",
      " case_id              | 1014127334                            \n",
      " case_opened_date     | 1/1/18 0:48                           \n",
      " case_closed_date     | 1/2/18 7:57                           \n",
      " SLA_due_date         | 1/5/18 8:30                           \n",
      " case_late            | NO                                    \n",
      " num_days_late        | -3.022337963                          \n",
      " case_closed          | YES                                   \n",
      " dept_division        | Storm Water                           \n",
      " service_request_type | Removal Of Obstruction                \n",
      " SLA_days             | 4.320729167                           \n",
      " case_status          | Closed                                \n",
      " source_id            | svcCRMSS                              \n",
      " request_address      | 102  PALFREY ST W, San Antonio, 78223 \n",
      " council_district     | 3                                     \n",
      "only showing top 3 rows\n",
      "\n"
     ]
    },
    {
     "name": "stderr",
     "output_type": "stream",
     "text": [
      "23/05/19 14:52:38 WARN TaskSetManager: Stage 27 contains a task of very large size (1346 KiB). The maximum recommended task size is 1000 KiB.\n"
     ]
    }
   ],
   "source": [
    "df.show(3, vertical=True, truncate=False)"
   ]
  },
  {
   "cell_type": "code",
   "execution_count": 47,
   "id": "2c322ebc",
   "metadata": {},
   "outputs": [
    {
     "data": {
      "text/plain": [
       "['case_id',\n",
       " 'case_opened_date',\n",
       " 'case_closed_date',\n",
       " 'SLA_due_date',\n",
       " 'case_late',\n",
       " 'num_days_late',\n",
       " 'case_closed',\n",
       " 'dept_division',\n",
       " 'service_request_type',\n",
       " 'SLA_days',\n",
       " 'case_status',\n",
       " 'source_id',\n",
       " 'request_address',\n",
       " 'council_district']"
      ]
     },
     "execution_count": 47,
     "metadata": {},
     "output_type": "execute_result"
    }
   ],
   "source": [
    "df.columns"
   ]
  },
  {
   "cell_type": "markdown",
   "id": "a98297cf",
   "metadata": {},
   "source": [
    "### correct datatypes"
   ]
  },
  {
   "cell_type": "markdown",
   "id": "50584b86",
   "metadata": {},
   "source": [
    "#### change close_closed and case_late columns into boolean values"
   ]
  },
  {
   "cell_type": "code",
   "execution_count": null,
   "id": "66b0b1fa",
   "metadata": {},
   "outputs": [],
   "source": [
    "#use condition to make true and false\n"
   ]
  },
  {
   "cell_type": "markdown",
   "id": "3c65df82",
   "metadata": {},
   "source": [
    "#### change council_district datatype to string"
   ]
  },
  {
   "cell_type": "code",
   "execution_count": null,
   "id": "9655ab9c",
   "metadata": {},
   "outputs": [],
   "source": [
    "#use .cast()\n"
   ]
  },
  {
   "cell_type": "markdown",
   "id": "e7d21ecb",
   "metadata": {},
   "source": [
    "#### change dates to datetype"
   ]
  },
  {
   "cell_type": "markdown",
   "id": "91d94432",
   "metadata": {},
   "source": [
    "format date strings: https://docs.oracle.com/javase/10/docs/api/java/time/format/DateTimeFormatter.html"
   ]
  },
  {
   "cell_type": "code",
   "execution_count": null,
   "id": "8093fa25",
   "metadata": {},
   "outputs": [],
   "source": [
    "#use to_timestamp\n"
   ]
  },
  {
   "cell_type": "code",
   "execution_count": null,
   "id": "8e7b4f96-3f18-46a9-9598-f8c6e8ba3e8a",
   "metadata": {},
   "outputs": [],
   "source": []
  },
  {
   "cell_type": "markdown",
   "id": "4cbca0fd",
   "metadata": {},
   "source": [
    "### data transformation"
   ]
  },
  {
   "cell_type": "markdown",
   "id": "86cd01a0",
   "metadata": {},
   "source": [
    "#### normalize address\n",
    "- `lower`: lowercase everything\n",
    "- `trim`: remove whitespace on the edges "
   ]
  },
  {
   "cell_type": "markdown",
   "id": "d56bd761",
   "metadata": {},
   "source": [
    "#### change num_days_late to num_weeks_late"
   ]
  },
  {
   "cell_type": "markdown",
   "id": "201bc28f",
   "metadata": {},
   "source": [
    "#### change council_district to int and pad with 00s"
   ]
  },
  {
   "cell_type": "markdown",
   "id": "37ecc429",
   "metadata": {},
   "source": [
    "### new features"
   ]
  },
  {
   "cell_type": "markdown",
   "id": "7059b9f5",
   "metadata": {},
   "source": [
    "#### create zip code column"
   ]
  },
  {
   "cell_type": "markdown",
   "id": "e16b302f",
   "metadata": {},
   "source": [
    "#### create case_lifetime column"
   ]
  },
  {
   "cell_type": "markdown",
   "id": "29d43cc6",
   "metadata": {},
   "source": [
    "- case_age: how long since the case first opened\n",
    "- days_to_close: the number of days between days opened and days closed\n",
    "- case_lifetime: if the case is open, how long since the case opened, if the case is closed, the number of days to close\n"
   ]
  },
  {
   "cell_type": "code",
   "execution_count": null,
   "id": "87f3203e",
   "metadata": {},
   "outputs": [],
   "source": [
    "#use datediff() to find the difference between two dates\n"
   ]
  },
  {
   "cell_type": "code",
   "execution_count": null,
   "id": "732677de",
   "metadata": {},
   "outputs": [],
   "source": [
    "#create case_lifetime column\n"
   ]
  },
  {
   "cell_type": "code",
   "execution_count": null,
   "id": "7b6bde5f",
   "metadata": {},
   "outputs": [],
   "source": []
  },
  {
   "cell_type": "code",
   "execution_count": null,
   "id": "ebaeef4e",
   "metadata": {},
   "outputs": [],
   "source": []
  },
  {
   "cell_type": "code",
   "execution_count": null,
   "id": "22524bf3",
   "metadata": {},
   "outputs": [],
   "source": [
    "#drop unnecessary columns\n"
   ]
  },
  {
   "cell_type": "code",
   "execution_count": null,
   "id": "9cb016e2",
   "metadata": {},
   "outputs": [],
   "source": []
  },
  {
   "cell_type": "markdown",
   "id": "638518f0",
   "metadata": {},
   "source": [
    "### join the dept table from sql to our current df"
   ]
  },
  {
   "cell_type": "code",
   "execution_count": null,
   "id": "83bb0fe8",
   "metadata": {},
   "outputs": [],
   "source": [
    "df.select('dept_division').show(5)"
   ]
  },
  {
   "cell_type": "code",
   "execution_count": null,
   "id": "59b24e71-2825-464b-b54a-a3c03499904c",
   "metadata": {},
   "outputs": [],
   "source": [
    "#get dept table from sql\n",
    "query = 'select * from dept'"
   ]
  },
  {
   "cell_type": "code",
   "execution_count": null,
   "id": "62a11688-7ce9-483d-8493-db724a883c4d",
   "metadata": {},
   "outputs": [],
   "source": [
    "url = get_db_url('311_data')\n",
    "dept = pd.read_sql(query, url)"
   ]
  },
  {
   "cell_type": "code",
   "execution_count": null,
   "id": "d0aa1ab1-4bda-4274-ad06-f7d5a755a414",
   "metadata": {},
   "outputs": [],
   "source": [
    "dept = spark.createDataFrame(dept)\n",
    "dept"
   ]
  },
  {
   "cell_type": "markdown",
   "id": "f904326a",
   "metadata": {},
   "source": [
    "### train, validate, test split"
   ]
  },
  {
   "cell_type": "markdown",
   "id": "f8f04c04",
   "metadata": {},
   "source": [
    "- `.randomSplit` to split df"
   ]
  },
  {
   "cell_type": "code",
   "execution_count": null,
   "id": "f4f08570",
   "metadata": {},
   "outputs": [],
   "source": []
  }
 ],
 "metadata": {
  "kernelspec": {
   "display_name": "Python 3 (ipykernel)",
   "language": "python",
   "name": "python3"
  },
  "language_info": {
   "codemirror_mode": {
    "name": "ipython",
    "version": 3
   },
   "file_extension": ".py",
   "mimetype": "text/x-python",
   "name": "python",
   "nbconvert_exporter": "python",
   "pygments_lexer": "ipython3",
   "version": "3.9.13"
  }
 },
 "nbformat": 4,
 "nbformat_minor": 5
}
