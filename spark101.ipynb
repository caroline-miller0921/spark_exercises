{
 "cells": [
  {
   "cell_type": "code",
   "execution_count": 1,
   "id": "42e4d604",
   "metadata": {},
   "outputs": [
    {
     "name": "stderr",
     "output_type": "stream",
     "text": [
      "Setting default log level to \"WARN\".\n",
      "To adjust logging level use sc.setLogLevel(newLevel). For SparkR, use setLogLevel(newLevel).\n",
      "23/05/19 11:28:00 WARN NativeCodeLoader: Unable to load native-hadoop library for your platform... using builtin-java classes where applicable\n",
      "[Stage 0:>                                                          (0 + 8) / 8]\r"
     ]
    },
    {
     "name": "stdout",
     "output_type": "stream",
     "text": [
      "+---+\n",
      "| id|\n",
      "+---+\n",
      "|  0|\n",
      "|  1|\n",
      "|  2|\n",
      "|  3|\n",
      "|  4|\n",
      "+---+\n",
      "\n"
     ]
    },
    {
     "name": "stderr",
     "output_type": "stream",
     "text": [
      "\r",
      "                                                                                \r"
     ]
    }
   ],
   "source": [
    "import pyspark\n",
    "spark = pyspark.sql.SparkSession.builder.getOrCreate()\n",
    "spark.range(5).show()"
   ]
  },
  {
   "cell_type": "code",
   "execution_count": 2,
   "id": "9a0e6746",
   "metadata": {},
   "outputs": [],
   "source": [
    "import pyspark\n",
    "\n",
    "spark = pyspark.sql.SparkSession.builder.getOrCreate()"
   ]
  },
  {
   "cell_type": "code",
   "execution_count": 3,
   "id": "0854611e",
   "metadata": {},
   "outputs": [
    {
     "name": "stderr",
     "output_type": "stream",
     "text": [
      "23/05/19 11:28:09 WARN SparkSession: Using an existing Spark session; only runtime SQL configurations will take effect.\n"
     ]
    }
   ],
   "source": [
    "import multiprocessing\n",
    "import pyspark\n",
    "\n",
    "nprocs = multiprocessing.cpu_count()\n",
    "\n",
    "spark = (pyspark.sql.SparkSession.builder\n",
    " .master('local')\n",
    " .config('spark.jars.packages', 'mysql:mysql-connector-java:8.0.16')\n",
    " .config('spark.driver.memory', '4G')\n",
    " .config('spark.driver.cores', nprocs)\n",
    " .config('spark.sql.shuffle.partitions', nprocs)\n",
    " .appName('MySparkApplication')\n",
    " .getOrCreate())"
   ]
  },
  {
   "cell_type": "code",
   "execution_count": 4,
   "id": "cd68d222",
   "metadata": {},
   "outputs": [],
   "source": [
    "import pyspark.sql.functions as F"
   ]
  },
  {
   "cell_type": "code",
   "execution_count": 5,
   "id": "450c315f",
   "metadata": {},
   "outputs": [],
   "source": [
    "import pandas as pd\n",
    "import numpy as np"
   ]
  },
  {
   "cell_type": "markdown",
   "id": "9ccfdf15",
   "metadata": {},
   "source": [
    "1. Create a spark data frame that contains your favorite programming languages.\n",
    "\n",
    "- The name of the column should be language\n",
    "- View the schema of the dataframe\n",
    "- Output the shape of the dataframe\n",
    "- Show the first 5 records in the dataframe"
   ]
  },
  {
   "cell_type": "code",
   "execution_count": 6,
   "id": "70822510",
   "metadata": {},
   "outputs": [
    {
     "name": "stdout",
     "output_type": "stream",
     "text": [
      "+----------+\n",
      "|language  |\n",
      "+----------+\n",
      "|MySQL     |\n",
      "|Python    |\n",
      "|R         |\n",
      "|Java      |\n",
      "|JavaScript|\n",
      "|Julia     |\n",
      "|HTML      |\n",
      "+----------+\n",
      "\n"
     ]
    }
   ],
   "source": [
    "pro_lang_df = spark.createDataFrame(\n",
    "    pd.DataFrame(\n",
    "        {\n",
    "            \"language\": [\n",
    "                \"MySQL\",\n",
    "                \"Python\",\n",
    "                \"R\",\n",
    "                \"Java\",\n",
    "                \"JavaScript\",\n",
    "                \"Julia\", \n",
    "                \"HTML\"\n",
    "            ]\n",
    "        }\n",
    "    )\n",
    ")\n",
    "\n",
    "pro_lang_df.show(truncate=False)"
   ]
  },
  {
   "cell_type": "code",
   "execution_count": 7,
   "id": "8e8ec3f6",
   "metadata": {},
   "outputs": [
    {
     "name": "stdout",
     "output_type": "stream",
     "text": [
      "+----------+\n",
      "|  language|\n",
      "+----------+\n",
      "|     MySQL|\n",
      "|    Python|\n",
      "|         R|\n",
      "|      Java|\n",
      "|JavaScript|\n",
      "|     Julia|\n",
      "|      HTML|\n",
      "+----------+\n",
      "\n"
     ]
    }
   ],
   "source": [
    "pro_lang_df.show()"
   ]
  },
  {
   "cell_type": "code",
   "execution_count": 37,
   "id": "0d1d0bf9",
   "metadata": {},
   "outputs": [
    {
     "name": "stdout",
     "output_type": "stream",
     "text": [
      "root\n",
      " |-- language: string (nullable = true)\n",
      "\n"
     ]
    }
   ],
   "source": [
    "pro_lang_df.printSchema()"
   ]
  },
  {
   "cell_type": "code",
   "execution_count": 8,
   "id": "3c39fde5",
   "metadata": {},
   "outputs": [
    {
     "data": {
      "text/plain": [
       "(7, 1)"
      ]
     },
     "execution_count": 8,
     "metadata": {},
     "output_type": "execute_result"
    }
   ],
   "source": [
    "pro_lang_df.count(), len(pro_lang_df.columns)"
   ]
  },
  {
   "cell_type": "code",
   "execution_count": 9,
   "id": "824979ff",
   "metadata": {},
   "outputs": [
    {
     "name": "stdout",
     "output_type": "stream",
     "text": [
      "+----------+\n",
      "|  language|\n",
      "+----------+\n",
      "|     MySQL|\n",
      "|    Python|\n",
      "|         R|\n",
      "|      Java|\n",
      "|JavaScript|\n",
      "+----------+\n",
      "only showing top 5 rows\n",
      "\n"
     ]
    }
   ],
   "source": [
    "pro_lang_df.show(5)"
   ]
  },
  {
   "cell_type": "markdown",
   "id": "635c540e",
   "metadata": {},
   "source": [
    "2. Load the mpg dataset as a spark dataframe.\n",
    "    \n",
    "    Create 1 column of output that contains a message like the one below:\n",
    "\n",
    "        -The 1999 audi a4 has a 4 cylinder engine.\n",
    "        -For each vehicle.\n",
    "        -Transform the trans column so that it only contains either manual or auto."
   ]
  },
  {
   "cell_type": "code",
   "execution_count": 10,
   "id": "2dfa9d5d",
   "metadata": {},
   "outputs": [],
   "source": [
    "from pydataset import data\n",
    "mpg = data('mpg')\n",
    "\n",
    "mpg = spark.createDataFrame(mpg)"
   ]
  },
  {
   "cell_type": "code",
   "execution_count": 11,
   "id": "e3707f8a",
   "metadata": {},
   "outputs": [
    {
     "data": {
      "text/plain": [
       "['manufacturer',\n",
       " 'model',\n",
       " 'displ',\n",
       " 'year',\n",
       " 'cyl',\n",
       " 'trans',\n",
       " 'drv',\n",
       " 'cty',\n",
       " 'hwy',\n",
       " 'fl',\n",
       " 'class']"
      ]
     },
     "execution_count": 11,
     "metadata": {},
     "output_type": "execute_result"
    }
   ],
   "source": [
    "mpg.columns"
   ]
  },
  {
   "cell_type": "code",
   "execution_count": 12,
   "id": "a8c59ab2",
   "metadata": {},
   "outputs": [
    {
     "name": "stdout",
     "output_type": "stream",
     "text": [
      "+------------+------------------+-----+----+---+----------+---+---+---+---+-------+\n",
      "|manufacturer|             model|displ|year|cyl|     trans|drv|cty|hwy| fl|  class|\n",
      "+------------+------------------+-----+----+---+----------+---+---+---+---+-------+\n",
      "|        audi|                a4|  1.8|1999|  4|  auto(l5)|  f| 18| 29|  p|compact|\n",
      "|        audi|                a4|  1.8|1999|  4|manual(m5)|  f| 21| 29|  p|compact|\n",
      "|        audi|                a4|  2.0|2008|  4|manual(m6)|  f| 20| 31|  p|compact|\n",
      "|        audi|                a4|  2.0|2008|  4|  auto(av)|  f| 21| 30|  p|compact|\n",
      "|        audi|                a4|  2.8|1999|  6|  auto(l5)|  f| 16| 26|  p|compact|\n",
      "|        audi|                a4|  2.8|1999|  6|manual(m5)|  f| 18| 26|  p|compact|\n",
      "|        audi|                a4|  3.1|2008|  6|  auto(av)|  f| 18| 27|  p|compact|\n",
      "|        audi|        a4 quattro|  1.8|1999|  4|manual(m5)|  4| 18| 26|  p|compact|\n",
      "|        audi|        a4 quattro|  1.8|1999|  4|  auto(l5)|  4| 16| 25|  p|compact|\n",
      "|        audi|        a4 quattro|  2.0|2008|  4|manual(m6)|  4| 20| 28|  p|compact|\n",
      "|        audi|        a4 quattro|  2.0|2008|  4|  auto(s6)|  4| 19| 27|  p|compact|\n",
      "|        audi|        a4 quattro|  2.8|1999|  6|  auto(l5)|  4| 15| 25|  p|compact|\n",
      "|        audi|        a4 quattro|  2.8|1999|  6|manual(m5)|  4| 17| 25|  p|compact|\n",
      "|        audi|        a4 quattro|  3.1|2008|  6|  auto(s6)|  4| 17| 25|  p|compact|\n",
      "|        audi|        a4 quattro|  3.1|2008|  6|manual(m6)|  4| 15| 25|  p|compact|\n",
      "|        audi|        a6 quattro|  2.8|1999|  6|  auto(l5)|  4| 15| 24|  p|midsize|\n",
      "|        audi|        a6 quattro|  3.1|2008|  6|  auto(s6)|  4| 17| 25|  p|midsize|\n",
      "|        audi|        a6 quattro|  4.2|2008|  8|  auto(s6)|  4| 16| 23|  p|midsize|\n",
      "|   chevrolet|c1500 suburban 2wd|  5.3|2008|  8|  auto(l4)|  r| 14| 20|  r|    suv|\n",
      "|   chevrolet|c1500 suburban 2wd|  5.3|2008|  8|  auto(l4)|  r| 11| 15|  e|    suv|\n",
      "+------------+------------------+-----+----+---+----------+---+---+---+---+-------+\n",
      "only showing top 20 rows\n",
      "\n"
     ]
    }
   ],
   "source": [
    "mpg.show()"
   ]
  },
  {
   "cell_type": "code",
   "execution_count": 13,
   "id": "3dc1b9f4",
   "metadata": {},
   "outputs": [
    {
     "name": "stdout",
     "output_type": "stream",
     "text": [
      "+------------+-----+-----+----+---+----------+---+---+---+---+-------+\n",
      "|manufacturer|model|displ|year|cyl|     trans|drv|cty|hwy| fl|  class|\n",
      "+------------+-----+-----+----+---+----------+---+---+---+---+-------+\n",
      "|        audi|   a4|  1.8|1999|  4|  auto(l5)|  f| 18| 29|  p|compact|\n",
      "|        audi|   a4|  1.8|1999|  4|manual(m5)|  f| 21| 29|  p|compact|\n",
      "|        audi|   a4|  2.8|1999|  6|  auto(l5)|  f| 16| 26|  p|compact|\n",
      "|        audi|   a4|  2.8|1999|  6|manual(m5)|  f| 18| 26|  p|compact|\n",
      "+------------+-----+-----+----+---+----------+---+---+---+---+-------+\n",
      "\n"
     ]
    }
   ],
   "source": [
    "mpg.filter(mpg.model == 'a4').where(mpg.year == 1999).show(5)"
   ]
  },
  {
   "cell_type": "code",
   "execution_count": 14,
   "id": "8cf3b8ca",
   "metadata": {},
   "outputs": [
    {
     "name": "stdout",
     "output_type": "stream",
     "text": [
      "+------------+------------------+-----+----+---+----------+---+---+---+---+-------+------------+\n",
      "|manufacturer|model             |displ|year|cyl|trans     |drv|cty|hwy|fl |class  |transmission|\n",
      "+------------+------------------+-----+----+---+----------+---+---+---+---+-------+------------+\n",
      "|audi        |a4                |1.8  |1999|4  |auto(l5)  |f  |18 |29 |p  |compact|auto        |\n",
      "|audi        |a4                |1.8  |1999|4  |manual(m5)|f  |21 |29 |p  |compact|manual      |\n",
      "|audi        |a4                |2.0  |2008|4  |manual(m6)|f  |20 |31 |p  |compact|manual      |\n",
      "|audi        |a4                |2.0  |2008|4  |auto(av)  |f  |21 |30 |p  |compact|auto        |\n",
      "|audi        |a4                |2.8  |1999|6  |auto(l5)  |f  |16 |26 |p  |compact|auto        |\n",
      "|audi        |a4                |2.8  |1999|6  |manual(m5)|f  |18 |26 |p  |compact|manual      |\n",
      "|audi        |a4                |3.1  |2008|6  |auto(av)  |f  |18 |27 |p  |compact|auto        |\n",
      "|audi        |a4 quattro        |1.8  |1999|4  |manual(m5)|4  |18 |26 |p  |compact|manual      |\n",
      "|audi        |a4 quattro        |1.8  |1999|4  |auto(l5)  |4  |16 |25 |p  |compact|auto        |\n",
      "|audi        |a4 quattro        |2.0  |2008|4  |manual(m6)|4  |20 |28 |p  |compact|manual      |\n",
      "|audi        |a4 quattro        |2.0  |2008|4  |auto(s6)  |4  |19 |27 |p  |compact|auto        |\n",
      "|audi        |a4 quattro        |2.8  |1999|6  |auto(l5)  |4  |15 |25 |p  |compact|auto        |\n",
      "|audi        |a4 quattro        |2.8  |1999|6  |manual(m5)|4  |17 |25 |p  |compact|manual      |\n",
      "|audi        |a4 quattro        |3.1  |2008|6  |auto(s6)  |4  |17 |25 |p  |compact|auto        |\n",
      "|audi        |a4 quattro        |3.1  |2008|6  |manual(m6)|4  |15 |25 |p  |compact|manual      |\n",
      "|audi        |a6 quattro        |2.8  |1999|6  |auto(l5)  |4  |15 |24 |p  |midsize|auto        |\n",
      "|audi        |a6 quattro        |3.1  |2008|6  |auto(s6)  |4  |17 |25 |p  |midsize|auto        |\n",
      "|audi        |a6 quattro        |4.2  |2008|8  |auto(s6)  |4  |16 |23 |p  |midsize|auto        |\n",
      "|chevrolet   |c1500 suburban 2wd|5.3  |2008|8  |auto(l4)  |r  |14 |20 |r  |suv    |auto        |\n",
      "|chevrolet   |c1500 suburban 2wd|5.3  |2008|8  |auto(l4)  |r  |11 |15 |e  |suv    |auto        |\n",
      "+------------+------------------+-----+----+---+----------+---+---+---+---+-------+------------+\n",
      "only showing top 20 rows\n",
      "\n"
     ]
    }
   ],
   "source": [
    "mpg.select(\n",
    "    '*', \n",
    "    F.regexp_replace('trans', r'\\(.*', '').alias('transmission'),\n",
    ").show(truncate=False)"
   ]
  },
  {
   "cell_type": "code",
   "execution_count": 41,
   "id": "fa1841b5",
   "metadata": {},
   "outputs": [
    {
     "name": "stdout",
     "output_type": "stream",
     "text": [
      "+--------------------------------------------------------------+\n",
      "|message                                                       |\n",
      "+--------------------------------------------------------------+\n",
      "|The 1999 audi a4 has a 4 cylinder engine.                     |\n",
      "|The 1999 audi a4 has a 4 cylinder engine.                     |\n",
      "|The 2008 audi a4 has a 4 cylinder engine.                     |\n",
      "|The 2008 audi a4 has a 4 cylinder engine.                     |\n",
      "|The 1999 audi a4 has a 6 cylinder engine.                     |\n",
      "|The 1999 audi a4 has a 6 cylinder engine.                     |\n",
      "|The 2008 audi a4 has a 6 cylinder engine.                     |\n",
      "|The 1999 audi a4 quattro has a 4 cylinder engine.             |\n",
      "|The 1999 audi a4 quattro has a 4 cylinder engine.             |\n",
      "|The 2008 audi a4 quattro has a 4 cylinder engine.             |\n",
      "|The 2008 audi a4 quattro has a 4 cylinder engine.             |\n",
      "|The 1999 audi a4 quattro has a 6 cylinder engine.             |\n",
      "|The 1999 audi a4 quattro has a 6 cylinder engine.             |\n",
      "|The 2008 audi a4 quattro has a 6 cylinder engine.             |\n",
      "|The 2008 audi a4 quattro has a 6 cylinder engine.             |\n",
      "|The 1999 audi a6 quattro has a 6 cylinder engine.             |\n",
      "|The 2008 audi a6 quattro has a 6 cylinder engine.             |\n",
      "|The 2008 audi a6 quattro has a 8 cylinder engine.             |\n",
      "|The 2008 chevrolet c1500 suburban 2wd has a 8 cylinder engine.|\n",
      "|The 2008 chevrolet c1500 suburban 2wd has a 8 cylinder engine.|\n",
      "+--------------------------------------------------------------+\n",
      "only showing top 20 rows\n",
      "\n"
     ]
    }
   ],
   "source": [
    "mpg.select(\n",
    "    F.concat(F.lit('The '), F.expr('year'), \n",
    "                   F.lit(' '), F.expr('manufacturer'), F.lit(' '),\n",
    "                  F.expr('model'), F.lit(' has a '), F.expr('cyl'),\n",
    "                  F.lit( ' cylinder engine.')).alias('message')\n",
    "\n",
    ").show(truncate=False)"
   ]
  },
  {
   "cell_type": "markdown",
   "id": "1c27910d",
   "metadata": {},
   "source": [
    "3. Load the tips dataset as a spark dataframe.\n",
    "\n",
    "- What percentage of observations are smokers?\n",
    "- Create a column that contains the tip percentage\n",
    "- Calculate the average tip percentage for each combination of sex and smoker."
   ]
  },
  {
   "cell_type": "code",
   "execution_count": 16,
   "id": "3439d392",
   "metadata": {},
   "outputs": [],
   "source": [
    "tips = data('tips')\n",
    "\n",
    "tips = spark.createDataFrame(tips)"
   ]
  },
  {
   "cell_type": "code",
   "execution_count": 17,
   "id": "0255c1de",
   "metadata": {},
   "outputs": [
    {
     "name": "stdout",
     "output_type": "stream",
     "text": [
      "+----------+----+------+------+---+------+----+\n",
      "|total_bill| tip|   sex|smoker|day|  time|size|\n",
      "+----------+----+------+------+---+------+----+\n",
      "|     16.99|1.01|Female|    No|Sun|Dinner|   2|\n",
      "|     10.34|1.66|  Male|    No|Sun|Dinner|   3|\n",
      "|     21.01| 3.5|  Male|    No|Sun|Dinner|   3|\n",
      "|     23.68|3.31|  Male|    No|Sun|Dinner|   2|\n",
      "|     24.59|3.61|Female|    No|Sun|Dinner|   4|\n",
      "|     25.29|4.71|  Male|    No|Sun|Dinner|   4|\n",
      "|      8.77| 2.0|  Male|    No|Sun|Dinner|   2|\n",
      "|     26.88|3.12|  Male|    No|Sun|Dinner|   4|\n",
      "|     15.04|1.96|  Male|    No|Sun|Dinner|   2|\n",
      "|     14.78|3.23|  Male|    No|Sun|Dinner|   2|\n",
      "|     10.27|1.71|  Male|    No|Sun|Dinner|   2|\n",
      "|     35.26| 5.0|Female|    No|Sun|Dinner|   4|\n",
      "|     15.42|1.57|  Male|    No|Sun|Dinner|   2|\n",
      "|     18.43| 3.0|  Male|    No|Sun|Dinner|   4|\n",
      "|     14.83|3.02|Female|    No|Sun|Dinner|   2|\n",
      "|     21.58|3.92|  Male|    No|Sun|Dinner|   2|\n",
      "|     10.33|1.67|Female|    No|Sun|Dinner|   3|\n",
      "|     16.29|3.71|  Male|    No|Sun|Dinner|   3|\n",
      "|     16.97| 3.5|Female|    No|Sun|Dinner|   3|\n",
      "|     20.65|3.35|  Male|    No|Sat|Dinner|   3|\n",
      "+----------+----+------+------+---+------+----+\n",
      "only showing top 20 rows\n",
      "\n"
     ]
    }
   ],
   "source": [
    "tips.show()"
   ]
  },
  {
   "cell_type": "code",
   "execution_count": 18,
   "id": "0a21e4f6",
   "metadata": {},
   "outputs": [
    {
     "data": {
      "text/plain": [
       "38.11"
      ]
     },
     "execution_count": 18,
     "metadata": {},
     "output_type": "execute_result"
    }
   ],
   "source": [
    "round((tips.where(tips.smoker == 'Yes').count() / tips.count()) *100, 2)"
   ]
  },
  {
   "cell_type": "code",
   "execution_count": 44,
   "id": "1216e5c2",
   "metadata": {},
   "outputs": [],
   "source": [
    "tips = tips.withColumn('tip_percent', ((tips.tip / tips.total_bill) * 100))"
   ]
  },
  {
   "cell_type": "code",
   "execution_count": 20,
   "id": "51f0f5e4",
   "metadata": {},
   "outputs": [
    {
     "name": "stdout",
     "output_type": "stream",
     "text": [
      "+----------+----+------+------+---+------+----+------------------+\n",
      "|total_bill| tip|   sex|smoker|day|  time|size|       tip_percent|\n",
      "+----------+----+------+------+---+------+----+------------------+\n",
      "|     16.99|1.01|Female|    No|Sun|Dinner|   2|5.9446733372572105|\n",
      "|     10.34|1.66|  Male|    No|Sun|Dinner|   3|16.054158607350097|\n",
      "|     21.01| 3.5|  Male|    No|Sun|Dinner|   3|16.658733936220845|\n",
      "|     23.68|3.31|  Male|    No|Sun|Dinner|   2| 13.97804054054054|\n",
      "|     24.59|3.61|Female|    No|Sun|Dinner|   4|14.680764538430255|\n",
      "|     25.29|4.71|  Male|    No|Sun|Dinner|   4| 18.62396204033215|\n",
      "|      8.77| 2.0|  Male|    No|Sun|Dinner|   2| 22.80501710376283|\n",
      "|     26.88|3.12|  Male|    No|Sun|Dinner|   4|11.607142857142858|\n",
      "|     15.04|1.96|  Male|    No|Sun|Dinner|   2|13.031914893617023|\n",
      "|     14.78|3.23|  Male|    No|Sun|Dinner|   2|21.853856562922868|\n",
      "|     10.27|1.71|  Male|    No|Sun|Dinner|   2| 16.65043816942551|\n",
      "|     35.26| 5.0|Female|    No|Sun|Dinner|   4|14.180374361883155|\n",
      "|     15.42|1.57|  Male|    No|Sun|Dinner|   2|10.181582360570687|\n",
      "|     18.43| 3.0|  Male|    No|Sun|Dinner|   4|16.277807921866522|\n",
      "|     14.83|3.02|Female|    No|Sun|Dinner|   2|20.364126770060686|\n",
      "|     21.58|3.92|  Male|    No|Sun|Dinner|   2|18.164967562557923|\n",
      "|     10.33|1.67|Female|    No|Sun|Dinner|   3| 16.16650532429816|\n",
      "|     16.29|3.71|  Male|    No|Sun|Dinner|   3|22.774708410067525|\n",
      "|     16.97| 3.5|Female|    No|Sun|Dinner|   3|20.624631703005306|\n",
      "|     20.65|3.35|  Male|    No|Sat|Dinner|   3|16.222760290556902|\n",
      "+----------+----+------+------+---+------+----+------------------+\n",
      "only showing top 20 rows\n",
      "\n"
     ]
    }
   ],
   "source": [
    "tips.show()"
   ]
  },
  {
   "cell_type": "code",
   "execution_count": 21,
   "id": "ba9b9300",
   "metadata": {},
   "outputs": [
    {
     "name": "stderr",
     "output_type": "stream",
     "text": [
      "\r",
      "[Stage 37:>                                                         (0 + 8) / 8]\r"
     ]
    },
    {
     "name": "stdout",
     "output_type": "stream",
     "text": [
      "+------+-----------------+------------------+\n",
      "|   sex|               No|               Yes|\n",
      "+------+-----------------+------------------+\n",
      "|Female|15.69209707691836| 18.21503526994103|\n",
      "|  Male|16.06687151291298|15.277117520248513|\n",
      "+------+-----------------+------------------+\n",
      "\n"
     ]
    },
    {
     "name": "stderr",
     "output_type": "stream",
     "text": [
      "\r",
      "                                                                                \r"
     ]
    }
   ],
   "source": [
    "tips.groupBy('sex').pivot('smoker').mean('tip_percent').show()"
   ]
  },
  {
   "cell_type": "markdown",
   "id": "0e140951",
   "metadata": {},
   "source": [
    "4. Use the seattle weather dataset referenced in the lesson to answer the questions below.\n",
    "\n",
    "    - Convert the temperatures to fahrenheit.\n",
    "    - Which month has the most rain, on average?\n",
    "    - Which year was the windiest?\n",
    "    - What is the most frequent type of weather in January?\n",
    "    - What is the average high and low temperature on sunny days in July in 2013 and 2014?\n",
    "    - What percentage of days were rainy in q3 of 2015?\n",
    "    - For each year, find what percentage of days it rained (had non-zero precipitation)."
   ]
  },
  {
   "cell_type": "code",
   "execution_count": 22,
   "id": "b20f367e",
   "metadata": {},
   "outputs": [],
   "source": [
    "from vega_datasets import data\n",
    "\n",
    "weather = data.seattle_weather().assign(date=lambda df: df.date.astype(str))\n",
    "weather = spark.createDataFrame(weather)"
   ]
  },
  {
   "cell_type": "code",
   "execution_count": 23,
   "id": "a07a852e",
   "metadata": {},
   "outputs": [
    {
     "name": "stdout",
     "output_type": "stream",
     "text": [
      "+----------+-------------+--------+--------+----+-------+\n",
      "|      date|precipitation|temp_max|temp_min|wind|weather|\n",
      "+----------+-------------+--------+--------+----+-------+\n",
      "|2012-01-01|          0.0|    12.8|     5.0| 4.7|drizzle|\n",
      "|2012-01-02|         10.9|    10.6|     2.8| 4.5|   rain|\n",
      "|2012-01-03|          0.8|    11.7|     7.2| 2.3|   rain|\n",
      "|2012-01-04|         20.3|    12.2|     5.6| 4.7|   rain|\n",
      "|2012-01-05|          1.3|     8.9|     2.8| 6.1|   rain|\n",
      "|2012-01-06|          2.5|     4.4|     2.2| 2.2|   rain|\n",
      "|2012-01-07|          0.0|     7.2|     2.8| 2.3|   rain|\n",
      "|2012-01-08|          0.0|    10.0|     2.8| 2.0|    sun|\n",
      "|2012-01-09|          4.3|     9.4|     5.0| 3.4|   rain|\n",
      "|2012-01-10|          1.0|     6.1|     0.6| 3.4|   rain|\n",
      "|2012-01-11|          0.0|     6.1|    -1.1| 5.1|    sun|\n",
      "|2012-01-12|          0.0|     6.1|    -1.7| 1.9|    sun|\n",
      "|2012-01-13|          0.0|     5.0|    -2.8| 1.3|    sun|\n",
      "|2012-01-14|          4.1|     4.4|     0.6| 5.3|   snow|\n",
      "|2012-01-15|          5.3|     1.1|    -3.3| 3.2|   snow|\n",
      "|2012-01-16|          2.5|     1.7|    -2.8| 5.0|   snow|\n",
      "|2012-01-17|          8.1|     3.3|     0.0| 5.6|   snow|\n",
      "|2012-01-18|         19.8|     0.0|    -2.8| 5.0|   snow|\n",
      "|2012-01-19|         15.2|    -1.1|    -2.8| 1.6|   snow|\n",
      "|2012-01-20|         13.5|     7.2|    -1.1| 2.3|   snow|\n",
      "+----------+-------------+--------+--------+----+-------+\n",
      "only showing top 20 rows\n",
      "\n"
     ]
    }
   ],
   "source": [
    "weather.show()"
   ]
  },
  {
   "cell_type": "code",
   "execution_count": 24,
   "id": "cf7ef4cf",
   "metadata": {},
   "outputs": [],
   "source": [
    "weather = weather.select(\n",
    "    '*',\n",
    "    F.expr('temp_max + 32 AS max_temp_f'),\n",
    "    F.expr('temp_min + 32 AS min_temp_f')\n",
    ")"
   ]
  },
  {
   "cell_type": "code",
   "execution_count": 26,
   "id": "4c347c0d",
   "metadata": {},
   "outputs": [
    {
     "name": "stdout",
     "output_type": "stream",
     "text": [
      "+----------+-------------+--------+--------+----+-------+----------+----------+\n",
      "|      date|precipitation|temp_max|temp_min|wind|weather|max_temp_f|min_temp_f|\n",
      "+----------+-------------+--------+--------+----+-------+----------+----------+\n",
      "|2012-01-01|          0.0|    12.8|     5.0| 4.7|drizzle|      44.8|      37.0|\n",
      "|2012-01-02|         10.9|    10.6|     2.8| 4.5|   rain|      42.6|      34.8|\n",
      "|2012-01-03|          0.8|    11.7|     7.2| 2.3|   rain|      43.7|      39.2|\n",
      "|2012-01-04|         20.3|    12.2|     5.6| 4.7|   rain|      44.2|      37.6|\n",
      "|2012-01-05|          1.3|     8.9|     2.8| 6.1|   rain|      40.9|      34.8|\n",
      "|2012-01-06|          2.5|     4.4|     2.2| 2.2|   rain|      36.4|      34.2|\n",
      "|2012-01-07|          0.0|     7.2|     2.8| 2.3|   rain|      39.2|      34.8|\n",
      "|2012-01-08|          0.0|    10.0|     2.8| 2.0|    sun|      42.0|      34.8|\n",
      "|2012-01-09|          4.3|     9.4|     5.0| 3.4|   rain|      41.4|      37.0|\n",
      "|2012-01-10|          1.0|     6.1|     0.6| 3.4|   rain|      38.1|      32.6|\n",
      "|2012-01-11|          0.0|     6.1|    -1.1| 5.1|    sun|      38.1|      30.9|\n",
      "|2012-01-12|          0.0|     6.1|    -1.7| 1.9|    sun|      38.1|      30.3|\n",
      "|2012-01-13|          0.0|     5.0|    -2.8| 1.3|    sun|      37.0|      29.2|\n",
      "|2012-01-14|          4.1|     4.4|     0.6| 5.3|   snow|      36.4|      32.6|\n",
      "|2012-01-15|          5.3|     1.1|    -3.3| 3.2|   snow|      33.1|      28.7|\n",
      "|2012-01-16|          2.5|     1.7|    -2.8| 5.0|   snow|      33.7|      29.2|\n",
      "|2012-01-17|          8.1|     3.3|     0.0| 5.6|   snow|      35.3|      32.0|\n",
      "|2012-01-18|         19.8|     0.0|    -2.8| 5.0|   snow|      32.0|      29.2|\n",
      "|2012-01-19|         15.2|    -1.1|    -2.8| 1.6|   snow|      30.9|      29.2|\n",
      "|2012-01-20|         13.5|     7.2|    -1.1| 2.3|   snow|      39.2|      30.9|\n",
      "+----------+-------------+--------+--------+----+-------+----------+----------+\n",
      "only showing top 20 rows\n",
      "\n"
     ]
    }
   ],
   "source": [
    "weather.show()"
   ]
  },
  {
   "cell_type": "code",
   "execution_count": 36,
   "id": "f5186caa",
   "metadata": {},
   "outputs": [
    {
     "name": "stdout",
     "output_type": "stream",
     "text": [
      "+-----+--------+\n",
      "|month|avg_rain|\n",
      "+-----+--------+\n",
      "|    6|    1.11|\n",
      "|    5|    1.67|\n",
      "|    1|    3.76|\n",
      "|    3|    4.89|\n",
      "|    2|    3.73|\n",
      "|    4|    3.13|\n",
      "|   12|    5.02|\n",
      "|    9|    1.96|\n",
      "|   10|    4.06|\n",
      "|    7|    0.39|\n",
      "|   11|    5.35|\n",
      "|    8|    1.32|\n",
      "+-----+--------+\n",
      "\n"
     ]
    }
   ],
   "source": [
    "weather.withColumn('month', F.month(F.col('date'))).groupby(\n",
    "    'month').agg(\n",
    "    F.round(F.mean(weather.precipitation), 2).alias('avg_rain')).show()"
   ]
  },
  {
   "cell_type": "code",
   "execution_count": null,
   "id": "82b6efbb",
   "metadata": {},
   "outputs": [],
   "source": [
    "# November on average has the most rain"
   ]
  },
  {
   "cell_type": "code",
   "execution_count": 45,
   "id": "323566fc",
   "metadata": {},
   "outputs": [
    {
     "name": "stderr",
     "output_type": "stream",
     "text": [
      "\r",
      "[Stage 63:>                                                         (0 + 8) / 8]\r"
     ]
    },
    {
     "name": "stdout",
     "output_type": "stream",
     "text": [
      "+-------+------------------+\n",
      "|weather|sum(precipitation)|\n",
      "+-------+------------------+\n",
      "|drizzle|               1.0|\n",
      "|   snow|             208.1|\n",
      "|   rain|1321.8000000000006|\n",
      "|    sun|239.39999999999995|\n",
      "|    fog|2655.7000000000003|\n",
      "+-------+------------------+\n",
      "\n"
     ]
    },
    {
     "name": "stderr",
     "output_type": "stream",
     "text": [
      "\r",
      "                                                                                \r"
     ]
    }
   ],
   "source": [
    "weather.groupBy('weather').sum('precipitation').show()"
   ]
  },
  {
   "cell_type": "code",
   "execution_count": 50,
   "id": "4556b5da",
   "metadata": {},
   "outputs": [
    {
     "name": "stderr",
     "output_type": "stream",
     "text": [
      "\r",
      "[Stage 70:>                                                         (0 + 8) / 8]\r"
     ]
    },
    {
     "name": "stdout",
     "output_type": "stream",
     "text": [
      "+-----+-------------------+\n",
      "|month| avg(precipitation)|\n",
      "+-----+-------------------+\n",
      "|    7|0.38870967741935486|\n",
      "|    6| 1.1075000000000002|\n",
      "|    8| 1.3201612903225806|\n",
      "|    5| 1.6733870967741935|\n",
      "|    9| 1.9624999999999997|\n",
      "|    4|  3.128333333333333|\n",
      "|    2|  3.734513274336283|\n",
      "|    1| 3.7580645161290316|\n",
      "|   10|  4.059677419354839|\n",
      "|    3|  4.888709677419355|\n",
      "|   12|  5.021774193548389|\n",
      "|   11|  5.354166666666667|\n",
      "+-----+-------------------+\n",
      "\n"
     ]
    },
    {
     "name": "stderr",
     "output_type": "stream",
     "text": [
      "\r",
      "                                                                                \r"
     ]
    }
   ],
   "source": [
    "weather.withColumn('month', F.month(F.col('date'))).groupBy('month').agg(F.mean('precipitation')).sort('avg(precipitation)').show()"
   ]
  },
  {
   "cell_type": "code",
   "execution_count": 51,
   "id": "d6ff4e9d",
   "metadata": {},
   "outputs": [
    {
     "name": "stdout",
     "output_type": "stream",
     "text": [
      "+----+--------+\n",
      "|year|avg_wind|\n",
      "+----+--------+\n",
      "|2012|     3.4|\n",
      "|2013|    3.02|\n",
      "|2014|    3.39|\n",
      "|2015|    3.16|\n",
      "+----+--------+\n",
      "\n"
     ]
    }
   ],
   "source": [
    "weather.withColumn('year', F.year(F.col('date'))).groupby(\n",
    "    'year').agg(\n",
    "    F.round(F.mean(weather.wind), 2).alias('avg_wind')).show()"
   ]
  },
  {
   "cell_type": "code",
   "execution_count": 55,
   "id": "01a0f7f5",
   "metadata": {},
   "outputs": [
    {
     "name": "stdout",
     "output_type": "stream",
     "text": [
      "+-------+-----+\n",
      "|weather|count|\n",
      "+-------+-----+\n",
      "|    fog|   38|\n",
      "|   rain|   35|\n",
      "|    sun|   33|\n",
      "|drizzle|   10|\n",
      "|   snow|    8|\n",
      "+-------+-----+\n",
      "\n"
     ]
    }
   ],
   "source": [
    "weather.filter(\n",
    "    F.month(weather.date) == 1\n",
    ").groupBy('weather').count().sort(F.col('count').desc()).show()"
   ]
  },
  {
   "cell_type": "code",
   "execution_count": null,
   "id": "543ae019",
   "metadata": {},
   "outputs": [],
   "source": [
    "# looks like the most frquent weather in January is fog"
   ]
  },
  {
   "cell_type": "code",
   "execution_count": 63,
   "id": "3f9bd10f",
   "metadata": {},
   "outputs": [
    {
     "name": "stdout",
     "output_type": "stream",
     "text": [
      "+-------------------------+-------------------------+\n",
      "|round(avg(max_temp_f), 2)|round(avg(min_temp_f), 2)|\n",
      "+-------------------------+-------------------------+\n",
      "|                    59.09|                     46.4|\n",
      "+-------------------------+-------------------------+\n",
      "\n"
     ]
    }
   ],
   "source": [
    "weather.filter(\n",
    "    (F.month(weather.date) == 7) &\n",
    "    (F.year(weather.date) > 2013) &\n",
    "    (F.year(weather.date) < 2015) &\n",
    "    (weather.weather == 'sun')\n",
    ").agg(\n",
    "    F.round(F.mean('max_temp_f'), 2), F.round(F.mean('min_temp_f'), 2)\n",
    ").show()"
   ]
  },
  {
   "cell_type": "code",
   "execution_count": 72,
   "id": "7c4c892f",
   "metadata": {},
   "outputs": [
    {
     "name": "stdout",
     "output_type": "stream",
     "text": [
      "+------------+\n",
      "|percent_rain|\n",
      "+------------+\n",
      "|        2.17|\n",
      "+------------+\n",
      "\n"
     ]
    }
   ],
   "source": [
    "weather.filter(\n",
    "    F.quarter(weather.date) == 3).filter(\n",
    "    F.year(weather.date) == 2015\n",
    ").select(\n",
    "    (F.when(weather.weather == 'rain', 1).otherwise(0)).alias('rain')\n",
    ").agg((F.round(F.mean('rain') * 100, 2)).alias('percent_rain')).show()\n"
   ]
  },
  {
   "cell_type": "code",
   "execution_count": 78,
   "id": "dfaf9725",
   "metadata": {},
   "outputs": [
    {
     "name": "stdout",
     "output_type": "stream",
     "text": [
      "+----+--------------+\n",
      "|year|percent_precip|\n",
      "+----+--------------+\n",
      "|2012|        0.4836|\n",
      "|2013|        0.4164|\n",
      "|2014|         0.411|\n",
      "|2015|        0.3945|\n",
      "+----+--------------+\n",
      "\n"
     ]
    }
   ],
   "source": [
    "weather.withColumn(\n",
    "    'year',\n",
    "    F.year(weather.date)).withColumn(\n",
    "    'has_rained', \n",
    "    F.expr('precipitation > 0').cast('int')\n",
    ").groupBy('year').agg(\n",
    "    (F.round(F.avg('has_rained'), 4)).alias('percent_precip')).show()\n"
   ]
  }
 ],
 "metadata": {
  "kernelspec": {
   "display_name": "Python 3 (ipykernel)",
   "language": "python",
   "name": "python3"
  },
  "language_info": {
   "codemirror_mode": {
    "name": "ipython",
    "version": 3
   },
   "file_extension": ".py",
   "mimetype": "text/x-python",
   "name": "python",
   "nbconvert_exporter": "python",
   "pygments_lexer": "ipython3",
   "version": "3.9.13"
  }
 },
 "nbformat": 4,
 "nbformat_minor": 5
}
